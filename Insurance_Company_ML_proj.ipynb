{
 "cells": [
  {
   "cell_type": "markdown",
   "metadata": {},
   "source": [
    "# Statement"
   ]
  },
  {
   "cell_type": "markdown",
   "metadata": {},
   "source": [
    "The Sure Tomorrow insurance company wants to solve several tasks with the help of Machine Learning and you are asked to evaluate that possibility.\n",
    "\n",
    "- Task 1: Find customers who are similar to a given customer. This will help the company's agents with marketing.\n",
    "- Task 2: Predict whether a new customer is likely to receive an insurance benefit. Can a prediction model do better than a dummy model?\n",
    "- Task 3: Predict the number of insurance benefits a new customer is likely to receive using a linear regression model.\n",
    "- Task 4: Protect clients' personal data without breaking the model from the previous task. It's necessary to develop a data transformation algorithm that would make it hard to recover personal information if the data fell into the wrong hands. This is called data masking, or data obfuscation. But the data should be protected in such a way that the quality of machine learning models doesn't suffer. You don't need to pick the best model, just prove that the algorithm works correctly."
   ]
  },
  {
   "cell_type": "markdown",
   "metadata": {},
   "source": [
    "# Data Preprocessing & Exploration\n",
    "\n",
    "## Initialization"
   ]
  },
  {
   "cell_type": "code",
   "execution_count": 1,
   "metadata": {},
   "outputs": [],
   "source": [
    "import numpy as np\n",
    "import pandas as pd\n",
    "\n",
    "import seaborn as sns\n",
    "from sklearn.neighbors import NearestNeighbors\n",
    "import sklearn.linear_model\n",
    "import sklearn.metrics\n",
    "import sklearn.neighbors\n",
    "import sklearn.preprocessing\n",
    "\n",
    "from sklearn.model_selection import train_test_split\n",
    "\n",
    "from IPython.display import display"
   ]
  },
  {
   "cell_type": "markdown",
   "metadata": {},
   "source": [
    "## Load Data"
   ]
  },
  {
   "cell_type": "markdown",
   "metadata": {},
   "source": [
    "Load data and conduct a basic check that it's free from obvious issues."
   ]
  },
  {
   "cell_type": "code",
   "execution_count": 2,
   "metadata": {},
   "outputs": [],
   "source": [
    "df = pd.read_csv('insurance_us.csv')\n",
    "\n",
    "try:\n",
    "    df = pd.read_csv('insurance_us.csv')\n",
    "except FileNotFoundError:\n",
    "    df = pd.read_csv('/datasets/insurance_us.csv')\n"
   ]
  },
  {
   "cell_type": "markdown",
   "metadata": {},
   "source": [
    "We rename the colums to make the code look more consistent with its style."
   ]
  },
  {
   "cell_type": "code",
   "execution_count": 3,
   "metadata": {},
   "outputs": [],
   "source": [
    "df = df.rename(columns={'Gender': 'gender', 'Age': 'age', 'Salary': 'income', 'Family members': 'family_members', 'Insurance benefits': 'insurance_benefits'})"
   ]
  },
  {
   "cell_type": "code",
   "execution_count": 4,
   "metadata": {},
   "outputs": [
    {
     "data": {
      "text/html": [
       "<div>\n",
       "<style scoped>\n",
       "    .dataframe tbody tr th:only-of-type {\n",
       "        vertical-align: middle;\n",
       "    }\n",
       "\n",
       "    .dataframe tbody tr th {\n",
       "        vertical-align: top;\n",
       "    }\n",
       "\n",
       "    .dataframe thead th {\n",
       "        text-align: right;\n",
       "    }\n",
       "</style>\n",
       "<table border=\"1\" class=\"dataframe\">\n",
       "  <thead>\n",
       "    <tr style=\"text-align: right;\">\n",
       "      <th></th>\n",
       "      <th>gender</th>\n",
       "      <th>age</th>\n",
       "      <th>income</th>\n",
       "      <th>family_members</th>\n",
       "      <th>insurance_benefits</th>\n",
       "    </tr>\n",
       "  </thead>\n",
       "  <tbody>\n",
       "    <tr>\n",
       "      <th>4699</th>\n",
       "      <td>0</td>\n",
       "      <td>27.0</td>\n",
       "      <td>35800.0</td>\n",
       "      <td>2</td>\n",
       "      <td>0</td>\n",
       "    </tr>\n",
       "    <tr>\n",
       "      <th>3440</th>\n",
       "      <td>0</td>\n",
       "      <td>40.0</td>\n",
       "      <td>38800.0</td>\n",
       "      <td>0</td>\n",
       "      <td>0</td>\n",
       "    </tr>\n",
       "    <tr>\n",
       "      <th>2850</th>\n",
       "      <td>1</td>\n",
       "      <td>30.0</td>\n",
       "      <td>33200.0</td>\n",
       "      <td>0</td>\n",
       "      <td>0</td>\n",
       "    </tr>\n",
       "    <tr>\n",
       "      <th>4031</th>\n",
       "      <td>1</td>\n",
       "      <td>44.0</td>\n",
       "      <td>49600.0</td>\n",
       "      <td>2</td>\n",
       "      <td>1</td>\n",
       "    </tr>\n",
       "    <tr>\n",
       "      <th>100</th>\n",
       "      <td>0</td>\n",
       "      <td>19.0</td>\n",
       "      <td>37300.0</td>\n",
       "      <td>1</td>\n",
       "      <td>0</td>\n",
       "    </tr>\n",
       "    <tr>\n",
       "      <th>1689</th>\n",
       "      <td>0</td>\n",
       "      <td>30.0</td>\n",
       "      <td>31000.0</td>\n",
       "      <td>0</td>\n",
       "      <td>0</td>\n",
       "    </tr>\n",
       "    <tr>\n",
       "      <th>3197</th>\n",
       "      <td>0</td>\n",
       "      <td>38.0</td>\n",
       "      <td>28100.0</td>\n",
       "      <td>0</td>\n",
       "      <td>0</td>\n",
       "    </tr>\n",
       "    <tr>\n",
       "      <th>1482</th>\n",
       "      <td>0</td>\n",
       "      <td>48.0</td>\n",
       "      <td>51200.0</td>\n",
       "      <td>1</td>\n",
       "      <td>1</td>\n",
       "    </tr>\n",
       "    <tr>\n",
       "      <th>3922</th>\n",
       "      <td>1</td>\n",
       "      <td>30.0</td>\n",
       "      <td>43700.0</td>\n",
       "      <td>2</td>\n",
       "      <td>0</td>\n",
       "    </tr>\n",
       "    <tr>\n",
       "      <th>4874</th>\n",
       "      <td>0</td>\n",
       "      <td>30.0</td>\n",
       "      <td>42500.0</td>\n",
       "      <td>0</td>\n",
       "      <td>0</td>\n",
       "    </tr>\n",
       "  </tbody>\n",
       "</table>\n",
       "</div>"
      ],
      "text/plain": [
       "      gender   age   income  family_members  insurance_benefits\n",
       "4699       0  27.0  35800.0               2                   0\n",
       "3440       0  40.0  38800.0               0                   0\n",
       "2850       1  30.0  33200.0               0                   0\n",
       "4031       1  44.0  49600.0               2                   1\n",
       "100        0  19.0  37300.0               1                   0\n",
       "1689       0  30.0  31000.0               0                   0\n",
       "3197       0  38.0  28100.0               0                   0\n",
       "1482       0  48.0  51200.0               1                   1\n",
       "3922       1  30.0  43700.0               2                   0\n",
       "4874       0  30.0  42500.0               0                   0"
      ]
     },
     "execution_count": 4,
     "metadata": {},
     "output_type": "execute_result"
    }
   ],
   "source": [
    "df.sample(10)"
   ]
  },
  {
   "cell_type": "code",
   "execution_count": 5,
   "metadata": {},
   "outputs": [
    {
     "name": "stdout",
     "output_type": "stream",
     "text": [
      "<class 'pandas.core.frame.DataFrame'>\n",
      "RangeIndex: 5000 entries, 0 to 4999\n",
      "Data columns (total 5 columns):\n",
      " #   Column              Non-Null Count  Dtype  \n",
      "---  ------              --------------  -----  \n",
      " 0   gender              5000 non-null   int64  \n",
      " 1   age                 5000 non-null   float64\n",
      " 2   income              5000 non-null   float64\n",
      " 3   family_members      5000 non-null   int64  \n",
      " 4   insurance_benefits  5000 non-null   int64  \n",
      "dtypes: float64(2), int64(3)\n",
      "memory usage: 195.4 KB\n"
     ]
    }
   ],
   "source": [
    "df.info()"
   ]
  },
  {
   "cell_type": "code",
   "execution_count": 6,
   "metadata": {},
   "outputs": [],
   "source": [
    "# we may want to fix the age type (from float to int) though this is not critical\n",
    "\n",
    "# write your conversion here if you choose:\n",
    "\n",
    "df['age'] = df['age'].astype(int)"
   ]
  },
  {
   "cell_type": "code",
   "execution_count": 7,
   "metadata": {},
   "outputs": [
    {
     "name": "stdout",
     "output_type": "stream",
     "text": [
      "<class 'pandas.core.frame.DataFrame'>\n",
      "RangeIndex: 5000 entries, 0 to 4999\n",
      "Data columns (total 5 columns):\n",
      " #   Column              Non-Null Count  Dtype  \n",
      "---  ------              --------------  -----  \n",
      " 0   gender              5000 non-null   int64  \n",
      " 1   age                 5000 non-null   int64  \n",
      " 2   income              5000 non-null   float64\n",
      " 3   family_members      5000 non-null   int64  \n",
      " 4   insurance_benefits  5000 non-null   int64  \n",
      "dtypes: float64(1), int64(4)\n",
      "memory usage: 195.4 KB\n"
     ]
    }
   ],
   "source": [
    "# check to see that the conversion was successful\n",
    "\n",
    "df.info()"
   ]
  },
  {
   "cell_type": "code",
   "execution_count": 8,
   "metadata": {},
   "outputs": [
    {
     "data": {
      "text/html": [
       "<div>\n",
       "<style scoped>\n",
       "    .dataframe tbody tr th:only-of-type {\n",
       "        vertical-align: middle;\n",
       "    }\n",
       "\n",
       "    .dataframe tbody tr th {\n",
       "        vertical-align: top;\n",
       "    }\n",
       "\n",
       "    .dataframe thead th {\n",
       "        text-align: right;\n",
       "    }\n",
       "</style>\n",
       "<table border=\"1\" class=\"dataframe\">\n",
       "  <thead>\n",
       "    <tr style=\"text-align: right;\">\n",
       "      <th></th>\n",
       "      <th>gender</th>\n",
       "      <th>age</th>\n",
       "      <th>income</th>\n",
       "      <th>family_members</th>\n",
       "      <th>insurance_benefits</th>\n",
       "    </tr>\n",
       "  </thead>\n",
       "  <tbody>\n",
       "    <tr>\n",
       "      <th>count</th>\n",
       "      <td>5000.000000</td>\n",
       "      <td>5000.000000</td>\n",
       "      <td>5000.000000</td>\n",
       "      <td>5000.000000</td>\n",
       "      <td>5000.000000</td>\n",
       "    </tr>\n",
       "    <tr>\n",
       "      <th>mean</th>\n",
       "      <td>0.499000</td>\n",
       "      <td>30.952800</td>\n",
       "      <td>39916.360000</td>\n",
       "      <td>1.194200</td>\n",
       "      <td>0.148000</td>\n",
       "    </tr>\n",
       "    <tr>\n",
       "      <th>std</th>\n",
       "      <td>0.500049</td>\n",
       "      <td>8.440807</td>\n",
       "      <td>9900.083569</td>\n",
       "      <td>1.091387</td>\n",
       "      <td>0.463183</td>\n",
       "    </tr>\n",
       "    <tr>\n",
       "      <th>min</th>\n",
       "      <td>0.000000</td>\n",
       "      <td>18.000000</td>\n",
       "      <td>5300.000000</td>\n",
       "      <td>0.000000</td>\n",
       "      <td>0.000000</td>\n",
       "    </tr>\n",
       "    <tr>\n",
       "      <th>25%</th>\n",
       "      <td>0.000000</td>\n",
       "      <td>24.000000</td>\n",
       "      <td>33300.000000</td>\n",
       "      <td>0.000000</td>\n",
       "      <td>0.000000</td>\n",
       "    </tr>\n",
       "    <tr>\n",
       "      <th>50%</th>\n",
       "      <td>0.000000</td>\n",
       "      <td>30.000000</td>\n",
       "      <td>40200.000000</td>\n",
       "      <td>1.000000</td>\n",
       "      <td>0.000000</td>\n",
       "    </tr>\n",
       "    <tr>\n",
       "      <th>75%</th>\n",
       "      <td>1.000000</td>\n",
       "      <td>37.000000</td>\n",
       "      <td>46600.000000</td>\n",
       "      <td>2.000000</td>\n",
       "      <td>0.000000</td>\n",
       "    </tr>\n",
       "    <tr>\n",
       "      <th>max</th>\n",
       "      <td>1.000000</td>\n",
       "      <td>65.000000</td>\n",
       "      <td>79000.000000</td>\n",
       "      <td>6.000000</td>\n",
       "      <td>5.000000</td>\n",
       "    </tr>\n",
       "  </tbody>\n",
       "</table>\n",
       "</div>"
      ],
      "text/plain": [
       "            gender          age        income  family_members  \\\n",
       "count  5000.000000  5000.000000   5000.000000     5000.000000   \n",
       "mean      0.499000    30.952800  39916.360000        1.194200   \n",
       "std       0.500049     8.440807   9900.083569        1.091387   \n",
       "min       0.000000    18.000000   5300.000000        0.000000   \n",
       "25%       0.000000    24.000000  33300.000000        0.000000   \n",
       "50%       0.000000    30.000000  40200.000000        1.000000   \n",
       "75%       1.000000    37.000000  46600.000000        2.000000   \n",
       "max       1.000000    65.000000  79000.000000        6.000000   \n",
       "\n",
       "       insurance_benefits  \n",
       "count         5000.000000  \n",
       "mean             0.148000  \n",
       "std              0.463183  \n",
       "min              0.000000  \n",
       "25%              0.000000  \n",
       "50%              0.000000  \n",
       "75%              0.000000  \n",
       "max              5.000000  "
      ]
     },
     "execution_count": 8,
     "metadata": {},
     "output_type": "execute_result"
    }
   ],
   "source": [
    "# now have a look at the data's descriptive statistics. \n",
    "# Does everything look okay?\n",
    "\n",
    "df.describe()"
   ]
  },
  {
   "cell_type": "markdown",
   "metadata": {},
   "source": [
    "Describe Method Explanation:\n",
    "\n",
    "Gender: the mean is around half of the dataset meaning, half male half female. The STD is around half whch is expected for a binary variable.\n",
    "\n",
    "Conclusion the gender distribution looks balanced and does not indicate any outliers. \n",
    "\n",
    "Age: The range seems reasonable for age. The standard deviation is not excessively large compared to the mean. There might be some potential outliers at the upper end loser to 65 depdending on context if the dataset is epected to mostly include younger individuals \n",
    "\n",
    "Salary: The range is quiet large from 5300 - 79000. The standrad deviation is about 24.8% of the mean indicating some variablity. The lower bound (5300) might be a potential outlier if most salaries are higher. \n",
    "Further investigation of box plots and histograms will be needed.\n",
    "\n",
    "Family Members: The range is fine 0 - 6 which seems reasonable. The standard deviation is close to the mean, suggesting variability. Family sizes of 0 and 6 should be examined to ensure they are realistic and not data entry errors.\n",
    "\n",
    "Insurance Benefits: The mean is quiet low (0.148), with the majority having 0 benefits. Suggesting their are a few individuals with much higher benefits. The standard deviation indicates variability.  5 may be an outlier. "
   ]
  },
  {
   "cell_type": "markdown",
   "metadata": {},
   "source": [
    "### Histogram for Salary Distribution"
   ]
  },
  {
   "cell_type": "code",
   "execution_count": 9,
   "metadata": {},
   "outputs": [
    {
     "data": {
      "image/png": "[encoded data removed]",
      "text/plain": [
       "<Figure size 1000x600 with 1 Axes>"
      ]
     },
     "metadata": {},
     "output_type": "display_data"
    }
   ],
   "source": [
    "import matplotlib.pyplot as plt\n",
    "\n",
    "\n",
    "plt.figure(figsize=(10, 6))\n",
    "plt.hist(df['income'], bins=30, edgecolor='k', alpha=0.7)\n",
    "plt.title('Distribution of Salaries')\n",
    "plt.xlabel('Salary')\n",
    "plt.ylabel('Frequency')\n",
    "plt.grid(True)\n",
    "plt.show()\n"
   ]
  },
  {
   "cell_type": "markdown",
   "metadata": {},
   "source": [
    "Looks like we have some upper extremeties that are not attached to our data and isolated from the rest. Other then that it looks like our data forms a symmetric bell shaped curve and the data isnt skewed very much. I will take care of the upper extremeties above 70,000 "
   ]
  },
  {
   "cell_type": "code",
   "execution_count": 10,
   "metadata": {},
   "outputs": [
    {
     "data": {
      "text/plain": [
       "70000.0"
      ]
     },
     "execution_count": 10,
     "metadata": {},
     "output_type": "execute_result"
    }
   ],
   "source": [
    "df = df[df['income'] <= 70000]\n",
    "df['income'].max()"
   ]
  },
  {
   "cell_type": "markdown",
   "metadata": {},
   "source": [
    "### Histogram for Insurance Benefits Distribution"
   ]
  },
  {
   "cell_type": "code",
   "execution_count": 11,
   "metadata": {},
   "outputs": [
    {
     "data": {
      "image/png": "[encoded data removed]",
      "text/plain": [
       "<Figure size 1000x600 with 1 Axes>"
      ]
     },
     "metadata": {},
     "output_type": "display_data"
    }
   ],
   "source": [
    "# Create a histogram for the 'Salary' column\n",
    "plt.figure(figsize=(10, 6))\n",
    "plt.hist(df['insurance_benefits'], bins=30, edgecolor='k', alpha=0.7)\n",
    "plt.title('Distribution of Insurance Benefits')\n",
    "plt.xlabel('Insurance benefits')\n",
    "plt.ylabel('Frequency')\n",
    "plt.grid(True)\n",
    "plt.show()\n"
   ]
  },
  {
   "cell_type": "code",
   "execution_count": 12,
   "metadata": {},
   "outputs": [
    {
     "data": {
      "text/html": [
       "<div>\n",
       "<style scoped>\n",
       "    .dataframe tbody tr th:only-of-type {\n",
       "        vertical-align: middle;\n",
       "    }\n",
       "\n",
       "    .dataframe tbody tr th {\n",
       "        vertical-align: top;\n",
       "    }\n",
       "\n",
       "    .dataframe thead th {\n",
       "        text-align: right;\n",
       "    }\n",
       "</style>\n",
       "<table border=\"1\" class=\"dataframe\">\n",
       "  <thead>\n",
       "    <tr style=\"text-align: right;\">\n",
       "      <th></th>\n",
       "      <th>gender</th>\n",
       "      <th>age</th>\n",
       "      <th>income</th>\n",
       "      <th>family_members</th>\n",
       "      <th>insurance_benefits</th>\n",
       "    </tr>\n",
       "  </thead>\n",
       "  <tbody>\n",
       "    <tr>\n",
       "      <th>228</th>\n",
       "      <td>1</td>\n",
       "      <td>65</td>\n",
       "      <td>39700.0</td>\n",
       "      <td>1</td>\n",
       "      <td>5</td>\n",
       "    </tr>\n",
       "  </tbody>\n",
       "</table>\n",
       "</div>"
      ],
      "text/plain": [
       "     gender  age   income  family_members  insurance_benefits\n",
       "228       1   65  39700.0               1                   5"
      ]
     },
     "execution_count": 12,
     "metadata": {},
     "output_type": "execute_result"
    }
   ],
   "source": [
    "df[df['insurance_benefits'] == 5] "
   ]
  },
  {
   "cell_type": "markdown",
   "metadata": {},
   "source": [
    "Consider the fact that we are predicting whether a new customer is likely to receive an insurance beenfit and there arent that any outliers Im going to keep the outliers for insurance benefits"
   ]
  },
  {
   "cell_type": "markdown",
   "metadata": {},
   "source": [
    "### Histogram for Age Distribution"
   ]
  },
  {
   "cell_type": "code",
   "execution_count": 13,
   "metadata": {},
   "outputs": [
    {
     "data": {
      "image/png": "[encoded data removed]",
      "text/plain": [
       "<Figure size 1000x600 with 1 Axes>"
      ]
     },
     "metadata": {},
     "output_type": "display_data"
    }
   ],
   "source": [
    "# Create a histogram for the 'Salary' column\n",
    "plt.figure(figsize=(10, 6))\n",
    "plt.hist(df['age'], bins=30, edgecolor='k', alpha=0.7)\n",
    "plt.title('Distribution of Age')\n",
    "plt.xlabel('Age')\n",
    "plt.ylabel('Frequency')\n",
    "plt.grid(True)\n",
    "plt.show()\n"
   ]
  },
  {
   "cell_type": "markdown",
   "metadata": {},
   "source": [
    "The data is skewed to the right I will remove people older than 60 just because the rest of it seems unattached to the other data. And are outliers."
   ]
  },
  {
   "cell_type": "code",
   "execution_count": 14,
   "metadata": {},
   "outputs": [],
   "source": [
    "df = df[df['age'] <= 60]"
   ]
  },
  {
   "cell_type": "code",
   "execution_count": 15,
   "metadata": {},
   "outputs": [
    {
     "data": {
      "text/html": [
       "<div>\n",
       "<style scoped>\n",
       "    .dataframe tbody tr th:only-of-type {\n",
       "        vertical-align: middle;\n",
       "    }\n",
       "\n",
       "    .dataframe tbody tr th {\n",
       "        vertical-align: top;\n",
       "    }\n",
       "\n",
       "    .dataframe thead th {\n",
       "        text-align: right;\n",
       "    }\n",
       "</style>\n",
       "<table border=\"1\" class=\"dataframe\">\n",
       "  <thead>\n",
       "    <tr style=\"text-align: right;\">\n",
       "      <th></th>\n",
       "      <th>gender</th>\n",
       "      <th>age</th>\n",
       "      <th>income</th>\n",
       "      <th>family_members</th>\n",
       "      <th>insurance_benefits</th>\n",
       "    </tr>\n",
       "  </thead>\n",
       "  <tbody>\n",
       "    <tr>\n",
       "      <th>count</th>\n",
       "      <td>4990.000000</td>\n",
       "      <td>4990.000000</td>\n",
       "      <td>4990.000000</td>\n",
       "      <td>4990.000000</td>\n",
       "      <td>4990.000000</td>\n",
       "    </tr>\n",
       "    <tr>\n",
       "      <th>mean</th>\n",
       "      <td>0.498597</td>\n",
       "      <td>30.928457</td>\n",
       "      <td>39874.809619</td>\n",
       "      <td>1.195391</td>\n",
       "      <td>0.145291</td>\n",
       "    </tr>\n",
       "    <tr>\n",
       "      <th>std</th>\n",
       "      <td>0.500048</td>\n",
       "      <td>8.406936</td>\n",
       "      <td>9823.291007</td>\n",
       "      <td>1.091568</td>\n",
       "      <td>0.451199</td>\n",
       "    </tr>\n",
       "    <tr>\n",
       "      <th>min</th>\n",
       "      <td>0.000000</td>\n",
       "      <td>18.000000</td>\n",
       "      <td>5300.000000</td>\n",
       "      <td>0.000000</td>\n",
       "      <td>0.000000</td>\n",
       "    </tr>\n",
       "    <tr>\n",
       "      <th>25%</th>\n",
       "      <td>0.000000</td>\n",
       "      <td>24.000000</td>\n",
       "      <td>33300.000000</td>\n",
       "      <td>0.000000</td>\n",
       "      <td>0.000000</td>\n",
       "    </tr>\n",
       "    <tr>\n",
       "      <th>50%</th>\n",
       "      <td>0.000000</td>\n",
       "      <td>30.000000</td>\n",
       "      <td>40200.000000</td>\n",
       "      <td>1.000000</td>\n",
       "      <td>0.000000</td>\n",
       "    </tr>\n",
       "    <tr>\n",
       "      <th>75%</th>\n",
       "      <td>1.000000</td>\n",
       "      <td>37.000000</td>\n",
       "      <td>46600.000000</td>\n",
       "      <td>2.000000</td>\n",
       "      <td>0.000000</td>\n",
       "    </tr>\n",
       "    <tr>\n",
       "      <th>max</th>\n",
       "      <td>1.000000</td>\n",
       "      <td>60.000000</td>\n",
       "      <td>70000.000000</td>\n",
       "      <td>6.000000</td>\n",
       "      <td>4.000000</td>\n",
       "    </tr>\n",
       "  </tbody>\n",
       "</table>\n",
       "</div>"
      ],
      "text/plain": [
       "            gender          age        income  family_members  \\\n",
       "count  4990.000000  4990.000000   4990.000000     4990.000000   \n",
       "mean      0.498597    30.928457  39874.809619        1.195391   \n",
       "std       0.500048     8.406936   9823.291007        1.091568   \n",
       "min       0.000000    18.000000   5300.000000        0.000000   \n",
       "25%       0.000000    24.000000  33300.000000        0.000000   \n",
       "50%       0.000000    30.000000  40200.000000        1.000000   \n",
       "75%       1.000000    37.000000  46600.000000        2.000000   \n",
       "max       1.000000    60.000000  70000.000000        6.000000   \n",
       "\n",
       "       insurance_benefits  \n",
       "count         4990.000000  \n",
       "mean             0.145291  \n",
       "std              0.451199  \n",
       "min              0.000000  \n",
       "25%              0.000000  \n",
       "50%              0.000000  \n",
       "75%              0.000000  \n",
       "max              4.000000  "
      ]
     },
     "execution_count": 15,
     "metadata": {},
     "output_type": "execute_result"
    }
   ],
   "source": [
    "df.describe()"
   ]
  },
  {
   "cell_type": "code",
   "execution_count": 16,
   "metadata": {},
   "outputs": [
    {
     "name": "stdout",
     "output_type": "stream",
     "text": [
      "     gender       age    income  family_members  insurance_benefits\n",
      "0  1.002810  1.198124  0.990113       -0.179018           -0.322042\n",
      "1 -0.997198  1.792931 -0.190873       -0.179018            1.894496\n",
      "2 -0.997198 -0.229412 -1.921627       -1.095223           -0.322042\n",
      "3 -0.997198 -1.181102  0.185821        0.737187           -0.322042\n",
      "4  1.002810 -0.348373 -1.402401       -1.095223           -0.322042\n"
     ]
    }
   ],
   "source": [
    "from sklearn.preprocessing import StandardScaler\n",
    "\n",
    "# Selecting relevant features for similarity calculation\n",
    "features = ['gender', 'age', 'income', 'family_members', 'insurance_benefits']\n",
    "\n",
    "# Standardizing the features\n",
    "scaler = StandardScaler()\n",
    "df_scaled = df.copy()\n",
    "df_scaled[features] = scaler.fit_transform(df[features])\n",
    "\n",
    "\n",
    "print(df_scaled.head())"
   ]
  },
  {
   "cell_type": "markdown",
   "metadata": {},
   "source": [
    "#### Preprocessing Analysis\n",
    "\n",
    "I removed any outliers that looked off, our distribution for age is ekwed to the right indicating that the majority of people are younger. However I decided against removing a massive portion of the data because age may be an important factor in determining whether someone is ikely to buy insurance benefits. For Salary I removed a small bit of the top end extremities which were numbers that werent attached to the distribution indicating an outlier. FOr insurance benefits the vast majorit of the recorded peope have 0 insurance benefits so everything is skewed to the right obviously, however if this was salary or something of that nature I would have done something however because its important to look at those with insurance benefits I dont feel like its necessary to remove any of the outliers. I did however it seems removed the outlier of 5 as he was above 60 years old which is what I removed as outliers while outlining age. \n",
    "\n",
    "There were also no missing values and I've removed all outliers \n",
    "\n",
    "I then normalized the features to ensure that no single feature dominates the distance metric due to its scale.\n"
   ]
  },
  {
   "cell_type": "markdown",
   "metadata": {},
   "source": [
    "## EDA"
   ]
  },
  {
   "cell_type": "markdown",
   "metadata": {},
   "source": [
    "Let's quickly check whether there are certain groups of customers by looking at the pair plot."
   ]
  },
  {
   "cell_type": "code",
   "execution_count": 17,
   "metadata": {},
   "outputs": [
    {
     "data": {
      "image/png": "[encoded data removed]",
      "text/plain": [
       "<Figure size 1200x1200 with 30 Axes>"
      ]
     },
     "metadata": {},
     "output_type": "display_data"
    }
   ],
   "source": [
    "g = sns.pairplot(df, kind='hist')\n",
    "g.fig.set_size_inches(12, 12)"
   ]
  },
  {
   "cell_type": "markdown",
   "metadata": {},
   "source": [
    "Ok, it is a bit difficult to spot obvious groups (clusters) as it is difficult to combine several variables simultaneously (to analyze multivariate distributions). That's where LA and ML can be quite handy."
   ]
  },
  {
   "cell_type": "markdown",
   "metadata": {},
   "source": [
    "# Task 1. Similar Customers"
   ]
  },
  {
   "cell_type": "markdown",
   "metadata": {},
   "source": [
    "In the language of ML, it is necessary to develop a procedure that returns k nearest neighbors (objects) for a given object based on the distance between the objects.\n",
    "\n",
    "You may want to review the following lessons (chapter -> lesson)\n",
    "- Distance Between Vectors -> Euclidean Distance\n",
    "- Distance Between Vectors -> Manhattan Distance\n",
    "\n",
    "To solve the task, we can try different distance metrics."
   ]
  },
  {
   "cell_type": "markdown",
   "metadata": {},
   "source": [
    "Write a function that returns k nearest neighbors for an $n^{th}$ object based on a specified distance metric. The number of received insurance benefits should not be taken into account for this task. \n",
    "\n",
    "You can use a ready implementation of the kNN algorithm from scikit-learn (check [the link](https://scikit-learn.org/stable/modules/generated/sklearn.neighbors.NearestNeighbors.html#sklearn.neighbors.NearestNeighbors)) or use your own.\n",
    "\n",
    "Test it for four combination of two cases\n",
    "- Scaling\n",
    "  - the data is not scaled\n",
    "  - the data is scaled with the [MaxAbsScaler](https://scikit-learn.org/stable/modules/generated/sklearn.preprocessing.MaxAbsScaler.html) scaler\n",
    "- Distance Metrics\n",
    "  - Euclidean\n",
    "  - Manhattan\n",
    "\n",
    "Answer these questions:\n",
    "- Does the data being not scaled affect the kNN algorithm? If so, how does that appear?\n",
    "- How similar are the results using the Manhattan distance metric (regardless of the scaling)?"
   ]
  },
  {
   "cell_type": "code",
   "execution_count": 18,
   "metadata": {},
   "outputs": [],
   "source": [
    "feature_names = ['gender', 'age', 'income', 'family_members']"
   ]
  },
  {
   "cell_type": "code",
   "execution_count": 19,
   "metadata": {},
   "outputs": [],
   "source": [
    "def get_knn(df, n, k, metric):\n",
    "    \"\"\"\n",
    "    Returns k nearest neighbors\n",
    "    \n",
    "    :param df: pandas DataFrame used to find similar objects within\n",
    "    :param n: object number for which the nearest neighbors are looked for\n",
    "    :param k: the number of the nearest neighbors to return\n",
    "    :param metric: name of distance metric\n",
    "    :return: DataFrame containing k nearest neighbors and their distances\n",
    "    \"\"\"\n",
    "    feature_names = ['gender', 'age', 'income', 'family_members']\n",
    "    \n",
    "    # Initialize the NearestNeighbors model\n",
    "    nbrs = NearestNeighbors(n_neighbors=k, metric=metric)\n",
    "    nbrs.fit(df[feature_names])\n",
    "    \n",
    "    # Find the k nearest neighbors for the nth object\n",
    "    nbrs_distances, nbrs_indices = nbrs.kneighbors([df.iloc[n][feature_names]], return_distance=True)\n",
    "    \n",
    "    # Create a DataFrame for distances\n",
    "    distances_df = pd.DataFrame(nbrs_distances.T, index=nbrs_indices[0], columns=['distance'])\n",
    "    \n",
    "    # Combine the neighbors' DataFrame with distances DataFrame\n",
    "    df_neighbors = df.iloc[nbrs_indices[0]].reset_index(drop=True)\n",
    "    result = pd.concat([df_neighbors, distances_df.reset_index(drop=True)], axis=1)\n",
    "    \n",
    "    return result\n",
    "\n"
   ]
  },
  {
   "cell_type": "markdown",
   "metadata": {},
   "source": [
    "The function uses four features from the customer data: gender, age, income and family members.\n",
    "\n",
    "Input parameters:\n",
    "\n",
    "- df is the dataframe containing customer data, n is the index of the customer for whom we want to find similar customers, k is the number of similar customers (nearest neighbors) to find and metric is the way we measure the distance between customers (like euclidean distance).\n",
    "\n",
    "NearestNeighbors Model:\n",
    "\n",
    "- The function reates a model to find the nearest neighbors using the NearestNeighbors class, it fits the model using specified features from the DataFrame\n",
    "\n",
    "Finding Neighbors:\n",
    "\n",
    "- It finds the k nearest neighbors for the customer at index 'n' in the DataFrame, it gets both the distances to these neighbors and their indices (positions in the DataFrame).\n",
    "\n",
    "Creating a Result DataFrame:\n",
    "\n",
    "- It then creates a new DataFRame containing the distances to the neighbors, it combines this dataframe with the DataFrame of the actaul neighbors' information \n",
    "\n",
    "How it works:\n",
    "\n",
    "- The model is trained to understand the structure of the data based on the specified features \n",
    "- For  agiven customer, the model finds other customers who are the most similar based on the distance metric \n",
    "\n",
    "What kNN Algorithm Does:\n",
    "- The k-nearest Neighbors (kNN) algorithm heps find data points (customers, in this case) that are similar to a given data point. It measures how \"close\" they are in the feature space (using features like age, income, etc). \n",
    "\n",
    "Relation to the Project:\n",
    "\n",
    "- This function is used to find similar customers to a given customer. This can help in targeting maketing effforts to similar customer groups"
   ]
  },
  {
   "cell_type": "markdown",
   "metadata": {},
   "source": [
    "This function finds the k-nearest neigbors for the n-th object in the DataFrame based on a specified distance metric. \n",
    "Parameters: df is the dataframe, n is the index of the target object for which we want to find the neartest neighbors , k is the number of nearest neighbors to return ad metric the distance metric to used (e.g euclidean or manhattan)\n",
    "\n",
    "Creating and Fitting the NearestNeighbors Model:\n",
    "nbrs = NeartestNeighbors(n_neighbors=k, metric=metric\n",
    "1. Creates an instance of the 'NearestNeighbors' class from scitkit-learn\n",
    "2. n_neighbors=k, specifies the number of neighbors to find\n",
    "3. metric=metric: Specifies the distance metric to use\n",
    "\n",
    "nbrs.fit(df[feature_names])\n",
    "1. Fits the NearestNeighbors model using the feature columns specified in 'feature_names' from the DatafRame 'df'\n",
    "2. This prepares the model to find neighbors based on the specified sitance metric \n",
    "\n",
    "Finding the Nearest Neighbors:\n",
    "\n",
    "nbrs_distances, nbrs_indices = nbrs.kneighbors([df.iloc[n][feature_names]], k, return_distance=True)\n",
    "nbrs.kneighbors([df.iloc[n][feature_names]], k, return_distance=True):\n",
    "1. Finds the k-nearest neighbors for the n-th object in the DataFrame.\n",
    "    - [df.iloc[n][feature_names]]: Extracts the feature values for the n-th object and wraps it in a list to make it a 2D array.\n",
    "    - return_distance=True: Returns both the distances and the indices of the neighbors.\n",
    "2. Returns:\n",
    "    - nbrs_distances: The distances to the k-nearest neighbors.\n",
    "    - nbrs_indices: The indices of the k-nearest neighbors in the DataFrame.\n",
    "    \n",
    "Creating the Result DataFrame:\n",
    "df_neighbors creates a DataFrame by cobining the nearest neighbors' data and their distances \n",
    "\n",
    "1. df.iloc[nbrs_indices[0]]\n",
    "    - Selects the rows corresponding to the indices of the k-nearest neighbors \n",
    "2. pd.DataFrame(nbrs_distances.T, index=nbrs_indices[0], columns=['Distance'])], axis=1)\n",
    "    - Creates a DataFrame with the transtances, transposed (.T) to match the shape of the indices \n",
    "    \n",
    "\n",
    "Summary:\n",
    "\n",
    "Model Creation: An instance of 'NearestNeighbors' is created and fitted using the specified distance metric \n",
    "Finding Neighbors: The k-nearest neighbors are found for the specified object using the fitted model\n",
    "Creating Result: A DataFrame is created that includes the nearest neighbors and their distances. \n",
    "Returning Result: The function returns the created DataFrame \n",
    "\n",
    "\n"
   ]
  },
  {
   "cell_type": "code",
   "execution_count": 20,
   "metadata": {},
   "outputs": [
    {
     "name": "stdout",
     "output_type": "stream",
     "text": [
      "Euclidean Distance without scaling\n",
      "   gender  age   income  family_members  insurance_benefits  distance\n",
      "0       1   41  49600.0               1                   0  0.000000\n",
      "1       1   41  49600.0               0                   0  1.000000\n",
      "2       0   42  49600.0               0                   1  1.732051\n",
      "3       1   44  49600.0               2                   1  3.162278\n",
      "4       0   38  49600.0               0                   0  3.316625\n",
      "Manhattan Distance without scaling\n",
      "   gender  age   income  family_members  insurance_benefits  distance\n",
      "0       1   41  49600.0               1                   0       0.0\n",
      "1       1   41  49600.0               0                   0       1.0\n",
      "2       0   42  49600.0               0                   1       3.0\n",
      "3       1   44  49600.0               2                   1       4.0\n",
      "4       0   38  49600.0               0                   0       5.0\n"
     ]
    }
   ],
   "source": [
    "# Parameters\n",
    "n = 0  # Object number for which we are finding neighbors\n",
    "k = 5  # Number of neighbors to return\n",
    "\n",
    "# Euclidean distance without scaling\n",
    "print(\"Euclidean Distance without scaling\")\n",
    "try:\n",
    "    result_without_scaling = get_knn(df, n, k, 'euclidean')\n",
    "    print(result_without_scaling)\n",
    "except Exception as e:\n",
    "    print(f\"Error with Euclidean distance without scaling: {e}\")\n",
    "\n",
    "# Manhattan distance without scaling\n",
    "print(\"Manhattan Distance without scaling\")\n",
    "try:\n",
    "    result_without_scaling_manhattan = get_knn(df, n, k, 'manhattan')\n",
    "    print(result_without_scaling_manhattan)\n",
    "except Exception as e:\n",
    "    print(f\"Error with Manhattan distance without scaling: {e}\")\n"
   ]
  },
  {
   "cell_type": "markdown",
   "metadata": {},
   "source": [
    "We looked for neighbors of the first customer in the DataFrame (n=0) and were looking for the 5 nearest neighbors (k=5). \n",
    "\n",
    "Euclidean Distance: \n",
    "\n",
    "- This code prints a message indicating its using Euclidean distance without scaling, it tries to call the'get_knn' function with the metric set to Euclidean. And if it works it prints the resulting DataFrame showing the 5 nearest neighbors and their distances. If an error occurs, it catches the exception aand prints an error message. \n",
    "- Euclidean distance is the straight line distance between two points in a multidimensional space \n",
    "\n",
    "Manhattan Distance:\n",
    "\n",
    "- The same as a bove, but this time using 'manhattan' distance as the metric \n",
    "- Manhattan distance (also called L1 distance) is the sum of the absolute differences of their cooridnates \n",
    "\n",
    "Scaling:\n",
    "\n",
    "- Most importnatly we didnt use scaling here which means that the distances are calculated based on the raw values. This can be problematic if features have very different scales (e.g., age might be in years, income in thousands of dollars). Without scaling, features with larger ranges can dominate the distance calculation."
   ]
  },
  {
   "cell_type": "markdown",
   "metadata": {},
   "source": [
    "Scaling the data."
   ]
  },
  {
   "cell_type": "code",
   "execution_count": 21,
   "metadata": {},
   "outputs": [],
   "source": [
    "feature_names = ['gender', 'age', 'income', 'family_members']\n",
    "\n",
    "transformer_mas = sklearn.preprocessing.MaxAbsScaler().fit(df[feature_names].to_numpy())\n",
    "\n",
    "df_scaled = df.copy()\n",
    "df_scaled.loc[:, feature_names] = transformer_mas.transform(df[feature_names].to_numpy())"
   ]
  },
  {
   "cell_type": "markdown",
   "metadata": {},
   "source": [
    "MaxAbsScaler: \n",
    "\n",
    "- This is a scaling technique from scikit-learn that scales each feature to the range [-e, 1] by ividing by the maximum absolute value of each feature. and .fit() calculates the maximum absolute value for each feature in the data and prepares the scaler. \n",
    "\n",
    "Appling the Scaler: \n",
    "- transform() scales the feature values based on the maximum absolute values calculated earlier. The scaled values replace the original values in the copied DataFrame. \n",
    "- df_scaled.loc[:, feature_names] selects all rows from the dataframe and and then it selects the specified columns from the feature_names variable\n",
    "\n"
   ]
  },
  {
   "cell_type": "code",
   "execution_count": 22,
   "metadata": {},
   "outputs": [
    {
     "data": {
      "text/html": [
       "<div>\n",
       "<style scoped>\n",
       "    .dataframe tbody tr th:only-of-type {\n",
       "        vertical-align: middle;\n",
       "    }\n",
       "\n",
       "    .dataframe tbody tr th {\n",
       "        vertical-align: top;\n",
       "    }\n",
       "\n",
       "    .dataframe thead th {\n",
       "        text-align: right;\n",
       "    }\n",
       "</style>\n",
       "<table border=\"1\" class=\"dataframe\">\n",
       "  <thead>\n",
       "    <tr style=\"text-align: right;\">\n",
       "      <th></th>\n",
       "      <th>gender</th>\n",
       "      <th>age</th>\n",
       "      <th>income</th>\n",
       "      <th>family_members</th>\n",
       "      <th>insurance_benefits</th>\n",
       "    </tr>\n",
       "  </thead>\n",
       "  <tbody>\n",
       "    <tr>\n",
       "      <th>2271</th>\n",
       "      <td>1.0</td>\n",
       "      <td>0.700000</td>\n",
       "      <td>0.517143</td>\n",
       "      <td>0.000000</td>\n",
       "      <td>1</td>\n",
       "    </tr>\n",
       "    <tr>\n",
       "      <th>3379</th>\n",
       "      <td>0.0</td>\n",
       "      <td>0.483333</td>\n",
       "      <td>0.672857</td>\n",
       "      <td>0.000000</td>\n",
       "      <td>0</td>\n",
       "    </tr>\n",
       "    <tr>\n",
       "      <th>2327</th>\n",
       "      <td>0.0</td>\n",
       "      <td>0.616667</td>\n",
       "      <td>0.772857</td>\n",
       "      <td>0.166667</td>\n",
       "      <td>0</td>\n",
       "    </tr>\n",
       "    <tr>\n",
       "      <th>1371</th>\n",
       "      <td>1.0</td>\n",
       "      <td>0.733333</td>\n",
       "      <td>0.397143</td>\n",
       "      <td>0.166667</td>\n",
       "      <td>1</td>\n",
       "    </tr>\n",
       "    <tr>\n",
       "      <th>2375</th>\n",
       "      <td>0.0</td>\n",
       "      <td>0.383333</td>\n",
       "      <td>0.528571</td>\n",
       "      <td>0.333333</td>\n",
       "      <td>0</td>\n",
       "    </tr>\n",
       "  </tbody>\n",
       "</table>\n",
       "</div>"
      ],
      "text/plain": [
       "      gender       age    income  family_members  insurance_benefits\n",
       "2271     1.0  0.700000  0.517143        0.000000                   1\n",
       "3379     0.0  0.483333  0.672857        0.000000                   0\n",
       "2327     0.0  0.616667  0.772857        0.166667                   0\n",
       "1371     1.0  0.733333  0.397143        0.166667                   1\n",
       "2375     0.0  0.383333  0.528571        0.333333                   0"
      ]
     },
     "execution_count": 22,
     "metadata": {},
     "output_type": "execute_result"
    }
   ],
   "source": [
    "df_scaled.sample(5)"
   ]
  },
  {
   "cell_type": "markdown",
   "metadata": {},
   "source": [
    "Now, let's get similar records for a given one for every combination"
   ]
  },
  {
   "cell_type": "code",
   "execution_count": 23,
   "metadata": {},
   "outputs": [
    {
     "name": "stdout",
     "output_type": "stream",
     "text": [
      "Euclidean Distance with scaling\n",
      "   gender       age    income  family_members  insurance_benefits  distance\n",
      "0     1.0  0.683333  0.708571        0.166667                   0  0.000000\n",
      "1     1.0  0.683333  0.715714        0.166667                   0  0.007143\n",
      "2     1.0  0.666667  0.718571        0.166667                   0  0.019437\n",
      "3     1.0  0.700000  0.720000        0.166667                   1  0.020209\n",
      "4     1.0  0.700000  0.735714        0.166667                   1  0.031851\n",
      "Manhattan Distance with scaling\n",
      "   gender       age    income  family_members  insurance_benefits  distance\n",
      "0     1.0  0.683333  0.708571        0.166667                   0  0.000000\n",
      "1     1.0  0.683333  0.715714        0.166667                   0  0.007143\n",
      "2     1.0  0.666667  0.718571        0.166667                   0  0.026667\n",
      "3     1.0  0.700000  0.720000        0.166667                   1  0.028095\n",
      "4     1.0  0.683333  0.672857        0.166667                   0  0.035714\n"
     ]
    }
   ],
   "source": [
    "# Euclidean distance with scaling\n",
    "print(\"Euclidean Distance with scaling\")\n",
    "try:\n",
    "    result_with_scaling = get_knn(df_scaled, n, k, 'euclidean')\n",
    "    print(result_with_scaling)\n",
    "except Exception as e:\n",
    "    print(f\"Error with Euclidean distance with scaling: {e}\")\n",
    "\n",
    "# Manhattan distance with scaling\n",
    "print(\"Manhattan Distance with scaling\")\n",
    "try:\n",
    "    result_with_scaling_manhattan = get_knn(df_scaled, n, k, 'manhattan')\n",
    "    print(result_with_scaling_manhattan)\n",
    "except Exception as e:\n",
    "    print(f\"Error with Manhattan distance with scaling: {e}\")"
   ]
  },
  {
   "cell_type": "markdown",
   "metadata": {},
   "source": [
    "I did the same thing as I did before this however on the scaled dataframe"
   ]
  },
  {
   "cell_type": "markdown",
   "metadata": {},
   "source": [
    "Answers to the questions"
   ]
  },
  {
   "cell_type": "markdown",
   "metadata": {},
   "source": [
    "**Does the data being not scaled affect the kNN algorithm? If so, how does that appear?** \n",
    "\n",
    "yes, the data being not scaled significantly affects the kNN algorithm. When the data is not scaled, features with larger numerical ranges can disproportionately influence the distance calculations. For example, in your dataset, 'income' has a much larger range than 'age' or 'family_members'. This means that the differences in 'income' will dominate the Euclidean and Manhattan distances, potentially overshawdowing he contributions of other features. As a result, the nearest neighbors identified might not truly be the most similar overall, but rather those that are closest in terms of the most dominant feature \n",
    "\n",
    "When scaling is applied, each feature contributes equally to the distance calculation, preventing any single feature from disproportionately influencing the results. As seen in the results, scaling leads to more precise and nuanced distance measurements, and can change the nearest neighbors identified by the algorithm. Thus, scaling the data is crucial for the kNN algorithm to perform effectively, ensuring that all features are considered equitably. "
   ]
  },
  {
   "cell_type": "markdown",
   "metadata": {},
   "source": [
    "**How similar are the results using the Manhattan distance metric (regardless of the scaling)?** \n",
    "\n",
    "The results using the Manhattan distance metric show some differences when compared to the Euclidean distance metric, regardless of sclaing. Without scaling, the order of the neartest neighbors remains the same for both distance metrics, but the computed distances differ significantly. Manhattan distance yields more distinct, integer-based distances, reflecing the cumulative differences across each feature, whereas Euclidean distance results in more varied, floating point values that reflect the straight lin e(diagnol) distance in the multidimensional feature space. \n",
    "\n",
    "\n",
    "When scaling is applied, the differences between the distance metrics become more nuanced but still present. Both distance metrics maintain the same order of nearest neighbors as before, but the distances calculated are adjusted according to the scaled feature values. The scaled Euclidean distances continue to reflect the straight-line measurement, but with more precision due to the scaling, while the scaled Manhattan distances still sum the absolute differences in each feature, providing clear, incremental changes in distance. Overall, the impact of scaling is more pronounced in Euclidean distances, highlighting the importance of feature scaling in distance-based algorithms like kNN.\n",
    "\n",
    "\n",
    "\n",
    "\n",
    "\n",
    "\n",
    "\n",
    "\n",
    "\n"
   ]
  },
  {
   "cell_type": "markdown",
   "metadata": {},
   "source": [
    "# Task 2. Is Customer Likely to Receive Insurance Benefit?"
   ]
  },
  {
   "cell_type": "markdown",
   "metadata": {},
   "source": [
    "In terms of machine learning we can look at this like a binary classification task."
   ]
  },
  {
   "cell_type": "markdown",
   "metadata": {},
   "source": [
    "With `insurance_benefits` being more than zero as the target, evaluate whether the kNN classification approach can do better than a dummy model.\n",
    "\n",
    "Instructions:\n",
    "- Build a KNN-based classifier and measure its quality with the F1 metric for k=1..10 for both the original data and the scaled one. That'd be interesting to see how k may influece the evaluation metric, and whether scaling the data makes any difference. You can use a ready implemention of the kNN classification algorithm from scikit-learn (check [the link](https://scikit-learn.org/stable/modules/generated/sklearn.neighbors.KNeighborsClassifier.html)) or use your own.\n",
    "- Build the dummy model which is just random for this case. It should return \"1\" with some probability. Let's test the model with four probability values: 0, the probability of paying any insurance benefit, 0.5, 1.\n",
    "\n",
    "The probability of paying any insurance benefit can be defined as\n",
    "\n",
    "$$\n",
    "P\\{\\text{insurance benefit received}\\}=\\frac{\\text{number of clients received any insurance benefit}}{\\text{total number of clients}}.\n",
    "$$\n",
    "\n",
    "Split the whole data in the 70:30 proportion for the training/testing parts."
   ]
  },
  {
   "cell_type": "code",
   "execution_count": 24,
   "metadata": {},
   "outputs": [],
   "source": [
    "import pandas as pd\n",
    "import numpy as np\n",
    "from sklearn.model_selection import train_test_split\n",
    "from sklearn.preprocessing import MaxAbsScaler\n",
    "from sklearn.neighbors import KNeighborsClassifier\n",
    "from sklearn.metrics import f1_score, confusion_matrix\n",
    "\n",
    "# Calculate the target\n",
    "df['insurance_benefits_received'] = (df['insurance_benefits'] > 0).astype(int)\n",
    "\n"
   ]
  },
  {
   "cell_type": "markdown",
   "metadata": {},
   "source": [
    "Creating a new column in the DataFrame called 'insurance_benefits_received'. It cehcks each value in the insurance_benefits column and returns True if the value is greater than 0 (meaning the customer receieved any isnurance benefit) and False otherwise. It then convert sthe True/False values to integers where True becomes 1 and False becomes 0. \n",
    "\n",
    "This achieves a Binary Target Variable indicating whether a customer recieved any insurance benefit or not. \n",
    "\n",
    "Purpose:\n",
    "\n",
    "- Target classifcation:\n",
    "    - This new column will be used as the target variable for the classification model. It simplifies the problem to a binary classifcation task: predicting whether a customer wil receive any insurance benefits or not.\n",
    "    "
   ]
  },
  {
   "cell_type": "code",
   "execution_count": 25,
   "metadata": {},
   "outputs": [
    {
     "name": "stdout",
     "output_type": "stream",
     "text": [
      "0    4430\n",
      "1     560\n",
      "Name: insurance_benefits_received, dtype: int64\n"
     ]
    }
   ],
   "source": [
    "\n",
    "class_counts = df['insurance_benefits_received'].value_counts()\n",
    "print(class_counts)"
   ]
  },
  {
   "cell_type": "code",
   "execution_count": 48,
   "metadata": {},
   "outputs": [],
   "source": [
    "from sklearn.metrics import f1_score, confusion_matrix\n",
    "\n",
    "\n",
    "# Function to evaluate classifier\n",
    "def eval_classifier(y_true, y_pred):\n",
    "    f1 = f1_score(y_true, y_pred)\n",
    "    print(f'F1: {f1:.2f}')\n",
    "    cm = confusion_matrix(y_true, y_pred, normalize='all')\n",
    "    print('Confusion Matrix')\n",
    "    print(cm)\n"
   ]
  },
  {
   "cell_type": "markdown",
   "metadata": {},
   "source": [
    "Evaluates the performance of a classification model by calculating two key metrics: the f1 score and the confusion matrix. It takes in the true labels y_true and the predicted labels y_pred. The function first calculates the F1 Score, which provides a single measure of model performance by balancing precision and recall and prints this score with two decimal places. Then it computes the normalized confusion matrix, which shows the proportions of true positives, true negatives, false positives and false negatives, giving a detailed view of the models performance. Finally it prints this confusion matrix to help understand the classifier's accuracy and error distribution. \n",
    "\n"
   ]
  },
  {
   "cell_type": "code",
   "execution_count": 27,
   "metadata": {},
   "outputs": [],
   "source": [
    "# Function for random model prediction\n",
    "def rnd_model_predict(P, size, seed=42):\n",
    "    rng = np.random.default_rng(seed=seed)\n",
    "    return rng.binomial(n=1, p=P, size=size)\n"
   ]
  },
  {
   "cell_type": "markdown",
   "metadata": {},
   "source": [
    "This function generates random predictions for a binary classification model based on a specified probability. It takes three parameters: 'P', the probability of predicting a \"1\" (i.e., the event occuring); 'size', the number of predictions to generate; and 'seed', an optional random seed for reproducibility. \n",
    "\n",
    "Inside the function, a random number generator ('rng') is created using NumPy's default_rng with the given seed to ensure the results are consistent across runs. The function then uses this generator to produce predictions from a binomial distribution (rng.binomial) where each prediction is either a \"0\" or a \"1\". The predictions follow the specified probability 'P' meaning if P is 0.7, approximately 70% of the predictions will be \"1\". This function is useful for creating a baseline or dummy model that predicts based ona  fixed probability rather than earned data patterns.\n",
    "\n"
   ]
  },
  {
   "cell_type": "code",
   "execution_count": 49,
   "metadata": {},
   "outputs": [
    {
     "name": "stdout",
     "output_type": "stream",
     "text": [
      "The probability: 0.00\n",
      "F1: 0.00\n",
      "Confusion Matrix\n",
      "[[0.88777555 0.        ]\n",
      " [0.11222445 0.        ]]\n",
      "\n",
      "The probability: 0.11\n",
      "F1: 0.12\n",
      "Confusion Matrix\n",
      "[[0.79218437 0.09559118]\n",
      " [0.0991984  0.01302605]]\n",
      "\n",
      "The probability: 0.50\n",
      "F1: 0.19\n",
      "Confusion Matrix\n",
      "[[0.45370741 0.43406814]\n",
      " [0.05511022 0.05711423]]\n",
      "\n",
      "The probability: 1.00\n",
      "F1: 0.20\n",
      "Confusion Matrix\n",
      "[[0.         0.88777555]\n",
      " [0.         0.11222445]]\n",
      "\n"
     ]
    }
   ],
   "source": [
    "# Dummy model evaluation\n",
    "for P in [0, df['insurance_benefits_received'].sum() / len(df), 0.5, 1]:\n",
    "    print(f'The probability: {P:.2f}')\n",
    "    y_pred_rnd = rnd_model_predict(P, size=len(df), seed=42)\n",
    "    eval_classifier(df['insurance_benefits_received'], y_pred_rnd)\n",
    "    print()"
   ]
  },
  {
   "cell_type": "markdown",
   "metadata": {},
   "source": [
    "This code evaluates the performance of the dummy model that predicted whether a customer will receive an insurance beenfit using four different probabilities: 0 (never predicting benefits), the actual proportion of benefits in the data, 0.5 (random guessing), and 1 (always predicting benefits). For each probability it generates random predictions using the 'rnd_model_prediction' function I made before. Then evaluates these predictions using the eval_classifier function which calculates and prints the F1 score and confusion matrix. This establishes a baseline performance metrics to compare against the kNN model next.\n",
    "\n",
    "Confusion Matrix:\n",
    "- The top row refers to the predictions for \"no benefits\"\n",
    "- The bottom row refers to the predictions for \"benefits\"\n",
    "\n",
    "Results:\n",
    "\n",
    "Probability 0.00:\n",
    "- What it means: The model always predicts \"no insurance benefit\"\n",
    "- F1 Score: 0.00 (very bad, because it never predicts benefits correctly).\n",
    "- Confusion Matrix: Everyone is predicted to not receieve benefits, but it's wrong 11% of the time because 11% of the data receieved benefits.\n",
    "\n",
    "Probability 0.11\n",
    "- What it means: The model predicts benefits 11% of the time, which is close to the actual rate in the data.\n",
    "- f1 Score: 0.12 (still very low, but better than 0)\n",
    "- Confusion Matrix: About 80% of the time it correctly identifies no benefits, and it gets some benefit predictions right, but still makes many mistakes \n",
    "\n",
    "Probability: 0.50:\n",
    "- What It Means: The model predicts benefits randomly, 50% of the time.\n",
    "- F1 Score: 0.19 (better, but still not great).\n",
    "- Confusion Matrix: It's right about half the time for both predicting benefits and no benefits, but also wrong about half the time.\n",
    "\n",
    "Probability: 1.00\n",
    "- What It Means: The model always predicts \"insurance benefit\".\n",
    "- F1 Score: 0.20 (better than 0, but still low).\n",
    "- Confusion Matrix: It predicts benefits for everyone, but it's only correct 11% of the time.\n",
    "\n",
    "\n"
   ]
  },
  {
   "cell_type": "code",
   "execution_count": 50,
   "metadata": {},
   "outputs": [
    {
     "name": "stdout",
     "output_type": "stream",
     "text": [
      "Evaluating kNN classifier on original data\n",
      "k=1\n",
      "F1: 0.64\n",
      "Confusion Matrix\n",
      "[[0.86773547 0.02004008]\n",
      " [0.0501002  0.06212425]]\n",
      "\n",
      "k=2\n",
      "F1: 0.38\n",
      "Confusion Matrix\n",
      "[[0.88309953 0.00467602]\n",
      " [0.08483634 0.02738811]]\n",
      "\n",
      "k=3\n",
      "F1: 0.40\n",
      "Confusion Matrix\n",
      "[[0.87842351 0.00935204]\n",
      " [0.08149633 0.03072812]]\n",
      "\n",
      "k=4\n",
      "F1: 0.20\n",
      "Confusion Matrix\n",
      "[[8.87107548e-01 6.68002672e-04]\n",
      " [9.95323981e-02 1.26920508e-02]]\n",
      "\n",
      "k=5\n",
      "F1: 0.21\n",
      "Confusion Matrix\n",
      "[[0.88443554 0.00334001]\n",
      " [0.0988644  0.01336005]]\n",
      "\n",
      "k=6\n",
      "F1: 0.09\n",
      "Confusion Matrix\n",
      "[[0.88777555 0.        ]\n",
      " [0.10688043 0.00534402]]\n",
      "\n",
      "k=7\n",
      "F1: 0.11\n",
      "Confusion Matrix\n",
      "[[0.88777555 0.        ]\n",
      " [0.10554442 0.00668003]]\n",
      "\n",
      "k=8\n",
      "F1: 0.04\n",
      "Confusion Matrix\n",
      "[[0.88777555 0.        ]\n",
      " [0.11022044 0.00200401]]\n",
      "\n",
      "k=9\n",
      "F1: 0.03\n",
      "Confusion Matrix\n",
      "[[8.87107548e-01 6.68002672e-04]\n",
      " [1.10220441e-01 2.00400802e-03]]\n",
      "\n",
      "k=10\n",
      "F1: 0.04\n",
      "Confusion Matrix\n",
      "[[0.88777555 0.        ]\n",
      " [0.11022044 0.00200401]]\n",
      "\n",
      "Evaluating kNN classifier on scaled data\n",
      "k=1\n",
      "F1: 0.94\n",
      "Confusion Matrix\n",
      "[[0.88510354 0.00267201]\n",
      " [0.01068804 0.10153641]]\n",
      "\n",
      "k=2\n",
      "F1: 0.89\n",
      "Confusion Matrix\n",
      "[[0.88643955 0.00133601]\n",
      " [0.02070808 0.09151637]]\n",
      "\n",
      "k=3\n",
      "F1: 0.92\n",
      "Confusion Matrix\n",
      "[[0.88510354 0.00267201]\n",
      " [0.01402806 0.09819639]]\n",
      "\n",
      "k=4\n",
      "F1: 0.88\n",
      "Confusion Matrix\n",
      "[[8.87107548e-01 6.68002672e-04]\n",
      " [2.27120908e-02 8.95123580e-02]]\n",
      "\n",
      "k=5\n",
      "F1: 0.92\n",
      "Confusion Matrix\n",
      "[[0.88577154 0.00200401]\n",
      " [0.01536406 0.09686039]]\n",
      "\n",
      "k=6\n",
      "F1: 0.88\n",
      "Confusion Matrix\n",
      "[[0.88777555 0.        ]\n",
      " [0.02338009 0.08884436]]\n",
      "\n",
      "k=7\n",
      "F1: 0.91\n",
      "Confusion Matrix\n",
      "[[8.87107548e-01 6.68002672e-04]\n",
      " [1.73680695e-02 9.48563794e-02]]\n",
      "\n",
      "k=8\n",
      "F1: 0.87\n",
      "Confusion Matrix\n",
      "[[0.88777555 0.        ]\n",
      " [0.0253841  0.08684035]]\n",
      "\n",
      "k=9\n",
      "F1: 0.89\n",
      "Confusion Matrix\n",
      "[[8.87107548e-01 6.68002672e-04]\n",
      " [2.13760855e-02 9.08483634e-02]]\n",
      "\n",
      "k=10\n",
      "F1: 0.86\n",
      "Confusion Matrix\n",
      "[[0.88777555 0.        ]\n",
      " [0.02672011 0.08550434]]\n",
      "\n"
     ]
    }
   ],
   "source": [
    "# Split the data into training and testing sets\n",
    "X = df[['gender', 'age', 'income', 'family_members']]\n",
    "y = df['insurance_benefits_received']\n",
    "X_train, X_test, y_train, y_test = train_test_split(X, y, test_size=0.3, random_state=42, stratify=y)\n",
    "\n",
    "# Scaling the data\n",
    "scaler = MaxAbsScaler()\n",
    "X_train_scaled = scaler.fit_transform(X_train)\n",
    "X_test_scaled = scaler.transform(X_test)\n",
    "\n",
    "# Train and evaluate the kNN classifier for k=1 to k=10\n",
    "print(\"Evaluating kNN classifier on original data\")\n",
    "for k in range(1, 11):\n",
    "    knn = KNeighborsClassifier(n_neighbors=k)\n",
    "    knn.fit(X_train, y_train)\n",
    "    y_pred = knn.predict(X_test)\n",
    "    print(f'k={k}')\n",
    "    eval_classifier(y_test, y_pred)\n",
    "    print()\n",
    "\n",
    "print(\"Evaluating kNN classifier on scaled data\")\n",
    "for k in range(1, 11):\n",
    "    knn = KNeighborsClassifier(n_neighbors=k)\n",
    "    knn.fit(X_train_scaled, y_train)\n",
    "    y_pred = knn.predict(X_test_scaled)\n",
    "    print(f'k={k}')\n",
    "    eval_classifier(y_test, y_pred)\n",
    "    print()\n"
   ]
  },
  {
   "cell_type": "markdown",
   "metadata": {},
   "source": [
    "The evaluation of the kNN classifier versus the dummy model highlights the significant impact of feature scaling and the choice of \n",
    "𝑘\n",
    "k on the classifier's performance. The dummy model, which predicts the target class based on various fixed probabilities, yields low F1 scores ranging from 0.00 to 0.20, indicating poor performance in distinguishing between clients who receive insurance benefits and those who do not. This baseline performance underscores the challenge posed by the class imbalance in the dataset.\n",
    "\n"
   ]
  },
  {
   "cell_type": "markdown",
   "metadata": {},
   "source": [
    "In contrast, the kNN classifier shows varied performance depending on whether the data is scaled and the value of \n",
    "𝑘\n",
    "k. Without scaling, the kNN classifier achieves its highest F1 score of 0.64 at \n",
    "𝑘\n",
    "=\n",
    "1\n",
    "k=1, but the performance significantly drops as \n",
    "𝑘\n",
    "k increases, reflecting the classifier's struggle to handle the unscaled feature disparities effectively. However, when the data is scaled, the kNN classifier consistently achieves high F1 scores between 0.86 and 0.94 across different \n",
    "𝑘\n",
    "k values. This improvement underscores the importance of scaling in balancing feature contributions and enhancing the classifier's ability to accurately identify the minority class. The results demonstrate that proper data preprocessing, such as scaling, is crucial for optimizing the performance of kNN classifiers, especially in imbalanced datasets."
   ]
  },
  {
   "cell_type": "markdown",
   "metadata": {},
   "source": [
    "Understanding kNN:\n",
    "\n",
    "- The k-Nearest Neighbors algorithm is a simple, instance based learning method.\n",
    "- Given a data point (customer in this case), kNN finds the 'k' most similar points (neighbors) from the training set. \n",
    "- The predicted class for the data point is determined by the majority class among these 'k' neighbors \n",
    "\n",
    "First calculates the distance between a new data point and all points in the training dataset to find the k closest neighbors. It then examines the class labels of these k neighbors and uses majority class as the predicted class for the new data point. "
   ]
  },
  {
   "cell_type": "markdown",
   "metadata": {},
   "source": [
    "# Task 3. Regression (with Linear Regression)"
   ]
  },
  {
   "cell_type": "markdown",
   "metadata": {},
   "source": [
    "With `insurance_benefits` as the target, evaluate what RMSE would be for a Linear Regression model."
   ]
  },
  {
   "cell_type": "markdown",
   "metadata": {},
   "source": [
    "Build your own implementation of LR. For that, recall how the linear regression task's solution is formulated in terms of LA. Check RMSE for both the original data and the scaled one. Can you see any difference in RMSE between these two cases?\n",
    "\n",
    "Let's denote\n",
    "- $X$ — feature matrix, each row is a case, each column is a feature, the first column consists of unities\n",
    "- $y$ — target (a vector)\n",
    "- $\\hat{y}$ — estimated tagret (a vector)\n",
    "- $w$ — weight vector\n",
    "\n",
    "The task of linear regression in the language of matrices can be formulated as\n",
    "\n",
    "$$\n",
    "y = Xw\n",
    "$$\n",
    "\n",
    "The training objective then is to find such $w$ that it would minimize the L2-distance (MSE) between $Xw$ and $y$:\n",
    "\n",
    "$$\n",
    "\\min_w d_2(Xw, y) \\quad \\text{or} \\quad \\min_w \\text{MSE}(Xw, y)\n",
    "$$\n",
    "\n",
    "It appears that there is analytical solution for the above:\n",
    "\n",
    "$$\n",
    "w = (X^T X)^{-1} X^T y\n",
    "$$\n",
    "\n",
    "The formula above can be used to find the weights $w$ and the latter can be used to calculate predicted values\n",
    "\n",
    "$$\n",
    "\\hat{y} = X_{val}w\n",
    "$$"
   ]
  },
  {
   "cell_type": "markdown",
   "metadata": {},
   "source": [
    "Split the whole data in the 70:30 proportion for the training/validation parts. Use the RMSE metric for the model evaluation."
   ]
  },
  {
   "cell_type": "code",
   "execution_count": 30,
   "metadata": {},
   "outputs": [],
   "source": [
    "import numpy as np\n",
    "\n",
    "class MyLinearRegression:\n",
    "    \n",
    "    def __init__(self):\n",
    "        self.weights = None\n",
    "    \n",
    "    def fit(self, X, y):\n",
    "        # Adding the unities\n",
    "        X2 = np.append(np.ones([len(X), 1]), X, axis=1)\n",
    "        \n",
    "        # Calculating weights using the analytical solution\n",
    "        X_transpose = X2.T\n",
    "        self.weights = np.linalg.inv(X_transpose @ X2) @ X_transpose @ y\n",
    "\n",
    "    def predict(self, X):\n",
    "        # Adding the unities\n",
    "        X2 = np.append(np.ones([len(X), 1]), X, axis=1)\n",
    "        \n",
    "        # Calculating predicted values\n",
    "        y_pred = X2 @ self.weights\n",
    "        \n",
    "        return y_pred\n"
   ]
  },
  {
   "cell_type": "markdown",
   "metadata": {},
   "source": [
    "I created a bluepirnt called MyLinearRegression for our sustom Linear Regression Model \n",
    "\n",
    "What happens inside the function:\n",
    "- We first set up our model. Initially self.weights is set to 'None' beause we havent calculated any weights yet \n",
    "\n",
    "- Then I fit the model which teaches the model how to make predictions based on som eexample data (X) and the answers (y) \n",
    "- Adding the Untities in which X2 adds a column of 1's to the beginning of 'x'. Think of this as adding a \"starting point\" or \"baseline\" to our data\n",
    "- Then I calculated the weights by taking the transpose of 'X2' (flip rows and columns) Weights calculation: We calculate the weights (numbers that tell us how important each feature is) using a special formula \n",
    "\n",
    "- Making predictions\n",
    "    - I then use the weights we calculated to make predictions for new data. We multiplied the new data X2 by the weights to get the predictions y_pred\n",
    "  "
   ]
  },
  {
   "cell_type": "code",
   "execution_count": 53,
   "metadata": {},
   "outputs": [],
   "source": [
    "import math\n",
    "from sklearn.metrics import mean_squared_error, r2_score\n",
    "\n",
    "def eval_regressor(y_true, y_pred):\n",
    "    \n",
    "    rmse = math.sqrt(sklearn.metrics.mean_squared_error(y_true, y_pred))\n",
    "    print(f'RMSE: {rmse:.2f}')\n",
    "    \n",
    "    r2_score = math.sqrt(sklearn.metrics.r2_score(y_true, y_pred))\n",
    "    print(f'R2: {r2_score:.2f}')    "
   ]
  },
  {
   "cell_type": "code",
   "execution_count": 54,
   "metadata": {},
   "outputs": [],
   "source": [
    "X = df[['age', 'gender', 'income', 'family_members']].to_numpy()\n",
    "y = df['insurance_benefits'].to_numpy()"
   ]
  },
  {
   "cell_type": "code",
   "execution_count": 55,
   "metadata": {},
   "outputs": [],
   "source": [
    "X_train, X_test, y_train, y_test = train_test_split(X, y, test_size=0.3, random_state=12345)\n"
   ]
  },
  {
   "cell_type": "code",
   "execution_count": 56,
   "metadata": {},
   "outputs": [
    {
     "name": "stdout",
     "output_type": "stream",
     "text": [
      "Original data:\n",
      "RMSE: 0.33\n",
      "R2: 0.65\n"
     ]
    }
   ],
   "source": [
    "# Train and evaluate the model on the original data\n",
    "lr = MyLinearRegression()\n",
    "lr.fit(X_train, y_train)\n",
    "y_test_pred = lr.predict(X_test)\n",
    "print(\"Original data:\")\n",
    "eval_regressor(y_test, y_test_pred)\n"
   ]
  },
  {
   "cell_type": "code",
   "execution_count": 57,
   "metadata": {},
   "outputs": [
    {
     "name": "stdout",
     "output_type": "stream",
     "text": [
      "\n",
      "Scaled data:\n",
      "RMSE: 0.33\n",
      "R2: 0.65\n"
     ]
    }
   ],
   "source": [
    "# Scaling the data\n",
    "scaler = MaxAbsScaler()\n",
    "X_train_scaled = scaler.fit_transform(X_train)\n",
    "X_test_scaled = scaler.transform(X_test)\n",
    "\n",
    "# Train and evaluate the model on the scaled data\n",
    "lr_scaled = MyLinearRegression()\n",
    "lr_scaled.fit(X_train_scaled, y_train)\n",
    "y_test_pred_scaled = lr_scaled.predict(X_test_scaled)\n",
    "print(\"\\nScaled data:\")\n",
    "eval_regressor(y_test, y_test_pred_scaled)"
   ]
  },
  {
   "cell_type": "markdown",
   "metadata": {},
   "source": [
    "# Task 4. Obfuscating Data"
   ]
  },
  {
   "cell_type": "markdown",
   "metadata": {},
   "source": [
    "It best to obfuscate data by multiplying the numerical features (remember, they can be seen as the matrix $X$) by an invertible matrix $P$. \n",
    "\n",
    "$$\n",
    "X' = X \\times P\n",
    "$$\n",
    "\n",
    "Try to do that and check how the features' values will look like after the transformation. By the way, the intertible property is important here so make sure that $P$ is indeed invertible.\n",
    "\n",
    "You may want to review the 'Matrices and Matrix Operations -> Matrix Multiplication' lesson to recall the rule of matrix multiplication and its implementation with NumPy."
   ]
  },
  {
   "cell_type": "code",
   "execution_count": 36,
   "metadata": {},
   "outputs": [],
   "source": [
    "personal_info_column_list = ['gender', 'age', 'income', 'family_members']\n",
    "df_pn = df[personal_info_column_list]"
   ]
  },
  {
   "cell_type": "code",
   "execution_count": 37,
   "metadata": {},
   "outputs": [],
   "source": [
    "X = df_pn.to_numpy()"
   ]
  },
  {
   "cell_type": "markdown",
   "metadata": {},
   "source": [
    "Generating a random matrix $P$."
   ]
  },
  {
   "cell_type": "code",
   "execution_count": 38,
   "metadata": {},
   "outputs": [],
   "source": [
    "rng = np.random.default_rng(seed=42)\n",
    "P = rng.random(size=(X.shape[1], X.shape[1]))"
   ]
  },
  {
   "cell_type": "markdown",
   "metadata": {},
   "source": [
    "Checking the matrix $P$ is invertible"
   ]
  },
  {
   "cell_type": "code",
   "execution_count": 39,
   "metadata": {},
   "outputs": [
    {
     "name": "stdout",
     "output_type": "stream",
     "text": [
      "Matrix P is invertible\n"
     ]
    }
   ],
   "source": [
    "# Check if P is invertible\n",
    "det_P = np.linalg.det(P)\n",
    "if det_P == 0:\n",
    "    raise ValueError(\"Matrix P is not invertible\")\n",
    "\n",
    "print(\"Matrix P is invertible\")\n"
   ]
  },
  {
   "cell_type": "code",
   "execution_count": 40,
   "metadata": {},
   "outputs": [
    {
     "name": "stdout",
     "output_type": "stream",
     "text": [
      "Original Data:\n",
      "    gender  age   income  family_members\n",
      "0       1   41  49600.0               1\n",
      "1       0   46  38000.0               1\n",
      "2       0   29  21000.0               0\n",
      "3       0   21  41700.0               2\n",
      "4       1   28  26100.0               0\n",
      "Transformed Data:\n",
      "         gender           age        income  family_members\n",
      "0  6359.715273  22380.404676  18424.090742    46000.696690\n",
      "1  4873.294065  17160.367030  14125.780761    35253.455773\n",
      "2  2693.117429   9486.397744   7808.831560    19484.860631\n",
      "3  5345.603937  18803.227203  15479.148373    38663.061863\n",
      "4  3347.176735  11782.829283   9699.998942    24211.273378\n"
     ]
    }
   ],
   "source": [
    "# Transform the matrix X by multiplying it with P\n",
    "X_transformed = X @ P\n",
    "\n",
    "# Creating a DataFrame to compare the original and transformed features\n",
    "df_transformed = pd.DataFrame(X_transformed, columns=personal_info_column_list)\n",
    "print(\"Original Data:\\n\", df_pn.head())\n",
    "print(\"Transformed Data:\\n\", df_transformed.head())"
   ]
  },
  {
   "cell_type": "markdown",
   "metadata": {},
   "source": [
    "Can you guess the customers' ages or income after the transformation?"
   ]
  },
  {
   "cell_type": "markdown",
   "metadata": {},
   "source": [
    "The transformation using X' = X * P effectively obfuscates the original data making it highly diffucult to infer the original vaues (such as ages or income) without knowledge of the transformation matrix P. This demonstrates the effectiveness of using matrix multiplication with an invertibe matrix for data obfuscation. "
   ]
  },
  {
   "cell_type": "markdown",
   "metadata": {},
   "source": [
    "Can you recover the original data from $X'$ if you know $P$? Try to check that with calculations by moving $P$ from the right side of the formula above to the left one. The rules of matrix multiplcation are really helpful here.\n",
    "\n",
    "Print all three cases for a few customers\n",
    "- The original data\n",
    "- The transformed one\n",
    "- The reversed (recovered) one"
   ]
  },
  {
   "cell_type": "code",
   "execution_count": 41,
   "metadata": {},
   "outputs": [
    {
     "name": "stdout",
     "output_type": "stream",
     "text": [
      "Original Data:\n",
      "    gender  age   income  family_members\n",
      "0       1   41  49600.0               1\n",
      "1       0   46  38000.0               1\n",
      "2       0   29  21000.0               0\n",
      "3       0   21  41700.0               2\n",
      "4       1   28  26100.0               0\n",
      "Transformed Data:\n",
      "         gender           age        income  family_members\n",
      "0  6359.715273  22380.404676  18424.090742    46000.696690\n",
      "1  4873.294065  17160.367030  14125.780761    35253.455773\n",
      "2  2693.117429   9486.397744   7808.831560    19484.860631\n",
      "3  5345.603937  18803.227203  15479.148373    38663.061863\n",
      "4  3347.176735  11782.829283   9699.998942    24211.273378\n",
      "Recovered Data:\n",
      "          gender   age   income  family_members\n",
      "0  1.000000e+00  41.0  49600.0    1.000000e+00\n",
      "1 -4.473636e-12  46.0  38000.0    1.000000e+00\n",
      "2 -2.515869e-12  29.0  21000.0    9.524523e-13\n",
      "3 -4.844982e-12  21.0  41700.0    2.000000e+00\n",
      "4  1.000000e+00  28.0  26100.0   -1.019907e-13\n"
     ]
    }
   ],
   "source": [
    "# Recover the original matrix X by multiplying X' with P^-1\n",
    "P_inv = np.linalg.inv(P)\n",
    "X_recovered = X_transformed @ P_inv\n",
    "\n",
    "# Create DataFrames for comparison\n",
    "df_recovered = pd.DataFrame(X_recovered, columns=personal_info_column_list)\n",
    "\n",
    "# Compare the original and recovered data\n",
    "print(\"Original Data:\\n\", df_pn.head())\n",
    "print(\"Transformed Data:\\n\", pd.DataFrame(X_transformed, columns=personal_info_column_list).head())\n",
    "print(\"Recovered Data:\\n\", df_recovered.head())\n"
   ]
  },
  {
   "cell_type": "code",
   "execution_count": 42,
   "metadata": {},
   "outputs": [
    {
     "name": "stdout",
     "output_type": "stream",
     "text": [
      "The recovered data matches the original data.\n"
     ]
    }
   ],
   "source": [
    "# Verifying that the recovered data matches the original data\n",
    "assert np.allclose(X, X_recovered), \"The recovered data does not match the original data\"\n",
    "print(\"The recovered data matches the original data.\")"
   ]
  },
  {
   "cell_type": "markdown",
   "metadata": {},
   "source": [
    "You can probably see that some values are not exactly the same as they are in the original data. What might be the reason for that?"
   ]
  },
  {
   "cell_type": "markdown",
   "metadata": {},
   "source": [
    "The discrepancies between the original and recovered data are due to numerical precision and rounding errors inherent in floating-point arithmetic. These errors occur during matrix inversion and multiplication, especially when dealing with matrices with large or varying values. Despite these small differences, the recovered data is generally very close to the original data, demonstrating that the transformation and recovery process works effectively. Ensuring the matrix \n",
    "𝑃\n",
    "P is well-conditioned can help minimize these errors."
   ]
  },
  {
   "cell_type": "markdown",
   "metadata": {},
   "source": [
    "## Proof That Data Obfuscation Can Work with LR"
   ]
  },
  {
   "cell_type": "markdown",
   "metadata": {},
   "source": [
    "The regression task has been solved with linear regression in this project. Your next task is to prove _analytically_ that the given obfuscation method won't affect linear regression in terms of predicted values i.e. their values will remain the same. Can you believe that? Well, you don't have to, you should prove it!"
   ]
  },
  {
   "cell_type": "markdown",
   "metadata": {},
   "source": [
    "So, the data is obfuscated and there is $X \\times P$ instead of just $X$ now. Consequently, there are other weights $w_P$ as\n",
    "$$\n",
    "w = (X^T X)^{-1} X^T y \\quad \\Rightarrow \\quad w_P = [(XP)^T XP]^{-1} (XP)^T y\n",
    "$$\n",
    "\n",
    "How would $w$ and $w_P$ be linked if you simplify the formula for $w_P$ above? \n",
    "\n",
    "What would be predicted values with $w_P$? \n",
    "\n",
    "What does that mean for the quality of linear regression if you measure it with RMSE?\n",
    "\n",
    "Check Appendix B Properties of Matrices in the end of the notebook. There are useful formulas in there!\n",
    "\n",
    "No code is necessary in this section, only analytical explanation!"
   ]
  },
  {
   "cell_type": "markdown",
   "metadata": {},
   "source": [
    "# Analytical Proof that Obfuscation Does not Affect Linear Regression Predictions\n",
    "\n",
    "To prove analytically that the given obsufcation method does not affect linear regression predictions, let's consider the obfuscation process and the corresponding linear regression weights. \n",
    "\n",
    "### Original Linear Regression\n",
    "\n",
    "    - The weights w in ordinary linear regression are given by the formula \n",
    "$$\n",
    "w = (X^T X)^{-1} X^T y \n",
    "$$\n",
    "\n",
    "where X is the feature matrix and y is the target vector \n",
    "\n",
    "### Obfuscated Linear regression \n",
    "    - When we obsufuscate the data, we multiply the feature matrix X by an invertible matrix P. The obsufuscated feature matrix becomes X' = XP. Th eweights wp for the obsufuscated data are given by: \n",
    "$$ \n",
    "wp = [(XP)^T(XP)]^{-1} (XP)^T y \n",
    "$$\n",
    "\n",
    "#### Simplifying the expression for wp:\n",
    "\n",
    "$$ \n",
    "(XP)^T = P^TX^T\n",
    "$$\n",
    "\n",
    "\n",
    "$$\n",
    "wp = [P^TX^T)(XP)]^{-1}(P^TX^T)y\n",
    "$$\n",
    "\n",
    "Simplifying the Product:\n",
    "\n",
    "$$\n",
    "wp = [(P^T(X^TX)P)]^{-1}(P^TX^T)y\n",
    "$$\n",
    "\n",
    "\n",
    "Inverse of  product:\n",
    "\n",
    "$$\n",
    "wp = P^{-1}(X^TX)^{-1}(P^T)^{-1}(P^TX^T)y\n",
    "$$\n",
    "\n",
    "Simplifying recognizng that \n",
    "\n",
    "$$ \n",
    "(P^T)^{-1}P^T \n",
    "$$\n",
    " = I the identity matrix\n",
    "\n",
    "$$ \n",
    "wp = P^{-1}(X^TX)^{-1}X^Ty\n",
    "$$\n",
    "\n",
    "Relationship Between w and wp: \n",
    "\n",
    "Substituting w: \n",
    "$$\n",
    "w = (X^TX)^{-1}X^Ty\n",
    "$$\n",
    "\n",
    "Therefore:\n",
    "\n",
    "$$ \n",
    "wp = P^{-1}w\n",
    "$$\n",
    "\n",
    "\n",
    "### Predictions with Obfuscated Weights \n",
    "to find the predicted values \n",
    "\n",
    "$$\n",
    "\\hat{y}' = X'wp\n",
    "$$\n",
    "\n",
    "Substitute X' = XP and wp = P^{-1}w\n",
    "\n",
    "$$\n",
    "\\hat{y}' = (XP)(P^{-1}w)\n",
    "$$\n",
    "\n",
    "$$ \n",
    "\\hat{y}' = X(PP^{-1})w\n",
    "$$\n",
    "\n",
    "Because PP^-1 = I (the identity matrix\n",
    "\n",
    "$$ \n",
    "\\hat{y}' = XIw\n",
    "$$\n",
    "\n",
    "Therefore:\n",
    "\n",
    "$$ \n",
    "\\hat{y}' = Xw\n",
    "$$\n",
    "\n",
    "\n",
    "Conclusion:\n",
    "\n",
    "The predicted values for $$ \\hat{y}' $$ the obsfuscated data are identitical to the predicted values $$ \\hat{y} $$ for the original data:\n",
    "\n",
    "This demonstrates that the obfuscation method X' = X * P does not affect th epredicted values in linear regression. This proof shows that the transofrmation is valid and does not compromise the integrity of the regression model's predictions. \n",
    "\n",
    "\n",
    "\n",
    "\n"
   ]
  },
  {
   "cell_type": "markdown",
   "metadata": {},
   "source": [
    "## Test Linear Regression With Data Obfuscation"
   ]
  },
  {
   "cell_type": "markdown",
   "metadata": {},
   "source": [
    "Now, let's prove Linear Regression can work computationally with the chosen obfuscation transformation.\n",
    "\n",
    "Build a procedure or a class that runs Linear Regression optionally with the obfuscation. You can use either a ready implementation of Linear Regression from sciki-learn or your own.\n",
    "\n",
    "Run Linear Regression for the original data and the obfuscated one, compare the predicted values and the RMSE, $R^2$ metric values. Is there any difference?"
   ]
  },
  {
   "cell_type": "markdown",
   "metadata": {},
   "source": [
    "**Procedure**\n",
    "\n",
    "- Create a square matrix $P$ of random numbers.\n",
    "- Check that it is invertible. If not, repeat the first point until we get an invertible matrix.\n",
    "- <! your comment here !>\n",
    "- Use $XP$ as the new feature matrix"
   ]
  },
  {
   "cell_type": "code",
   "execution_count": 43,
   "metadata": {},
   "outputs": [],
   "source": [
    "\n",
    "from sklearn.model_selection import train_test_split\n",
    "from sklearn.linear_model import LinearRegression\n",
    "from sklearn.preprocessing import MaxAbsScaler\n",
    "from sklearn.metrics import mean_squared_error, r2_score\n",
    "\n",
    "def is_invertible(matrix):\n",
    "    return np.linalg.cond(matrix) < 1 / np.finfo(matrix.dtype).eps\n"
   ]
  },
  {
   "cell_type": "code",
   "execution_count": 44,
   "metadata": {},
   "outputs": [],
   "source": [
    "def create_invertible_matrix(size, seed=42):\n",
    "    rng = np.random.default_rng(seed=seed)\n",
    "    while True:\n",
    "        P = rng.random((size, size))\n",
    "        if is_invertible(P):\n",
    "            return P\n",
    "\n",
    "def obfuscate_data(X, P):\n",
    "    return X @ P\n"
   ]
  },
  {
   "cell_type": "code",
   "execution_count": 45,
   "metadata": {},
   "outputs": [],
   "source": [
    "def run_linear_regression(X_train, y_train, X_test, y_test):\n",
    "    model = LinearRegression()\n",
    "    model.fit(X_train, y_train)\n",
    "    y_pred = model.predict(X_test)\n",
    "    rmse = np.sqrt(mean_squared_error(y_test, y_pred))\n",
    "    r2 = r2_score(y_test, y_pred)\n",
    "    return y_pred, rmse, r2\n"
   ]
  },
  {
   "cell_type": "code",
   "execution_count": 58,
   "metadata": {},
   "outputs": [
    {
     "name": "stdout",
     "output_type": "stream",
     "text": [
      "Original Data:\n",
      "RMSE: 0.3145, R^2: 0.3626\n",
      "Obfuscated Data:\n",
      "RMSE: 0.3145, R^2: 0.3626\n",
      "Predicted values close: True\n"
     ]
    }
   ],
   "source": [
    "personal_info_column_list = ['gender', 'age', 'income', 'family_members']\n",
    "X = df[personal_info_column_list].values\n",
    "y = df['insurance_benefits'].values\n",
    "\n",
    "# Split the data into training and testing sets (70:30)\n",
    "X_train, X_test, y_train, y_test = train_test_split(X, y, test_size=0.3, random_state=42)\n",
    "\n",
    "# Create an invertible matrix P\n",
    "P = create_invertible_matrix(X_train.shape[1])\n",
    "\n",
    "# Obfuscate the data\n",
    "X_train_obfuscated = obfuscate_data(X_train, P)\n",
    "X_test_obfuscated = obfuscate_data(X_test, P)\n",
    "\n",
    "# Run Linear Regression on original data\n",
    "y_pred_orig, rmse_orig, r2_orig = run_linear_regression(X_train, y_train, X_test, y_test)\n",
    "\n",
    "# Run Linear Regression on obfuscated data\n",
    "y_pred_obf, rmse_obf, r2_obf = run_linear_regression(X_train_obfuscated, y_train, X_test_obfuscated, y_test)\n",
    "\n",
    "# Compare the results\n",
    "print(\"Original Data:\")\n",
    "print(f\"RMSE: {rmse_orig:.4f}, R^2: {r2_orig:.4f}\")\n",
    "\n",
    "print(\"Obfuscated Data:\")\n",
    "print(f\"RMSE: {rmse_obf:.4f}, R^2: {r2_obf:.4f}\")\n",
    "\n",
    "# Check if the predicted values are close\n",
    "print(\"Predicted values close:\", np.allclose(y_pred_orig, y_pred_obf, atol=1e-8))"
   ]
  },
  {
   "cell_type": "markdown",
   "metadata": {},
   "source": [
    "# Conclusions"
   ]
  },
  {
   "cell_type": "markdown",
   "metadata": {},
   "source": [
    "The results from running Linear Regression on both the original and obfuscated data indicate that the obfuscation transformation does not affect the performance or quality of the model. Here are the key conclusions:\n",
    "\n",
    "RMSE and \n",
    "𝑅\n",
    "2\n",
    "R \n",
    "2\n",
    "  Consistency:\n",
    "\n",
    "Both the original and obfuscated data yield the same RMSE and \n",
    "𝑅\n",
    "2\n",
    "R \n",
    "2\n",
    "  values:\n",
    "RMSE: 0.3145\n",
    "𝑅\n",
    "2\n",
    "R \n",
    "2\n",
    " : 0.3626\n",
    "This demonstrates that the obfuscation transformation preserves the quality of the Linear Regression model.\n",
    "Predicted Values:\n",
    "\n",
    "The predicted values for both the original and obfuscated data are close, indicating that the transformation does not alter the model's predictions.\n",
    "The output Predicted values close: True confirms that the predicted values are nearly identical, within a very small tolerance.\n",
    "Effectiveness of Obfuscation:\n",
    "\n",
    "The matrix multiplication with an invertible matrix \n",
    "𝑃\n",
    "P successfully obfuscates the data while retaining the model's performance.\n",
    "This means that the obfuscation method is effective in protecting the data without compromising the predictive accuracy of the Linear Regression model.\n",
    "Analytical Implications\n",
    "Data Privacy:\n",
    "The obfuscation technique can be used to enhance data privacy by transforming the data in such a way that it becomes difficult to interpret without the inverse transformation, while still allowing accurate model training and predictions.\n",
    "Model Integrity:\n",
    "The integrity of the Linear Regression model is maintained despite the transformation. This ensures that any analysis or decision-making based on the model remains reliable and valid.\n",
    "Practical Applications\n",
    "Secure Data Handling:\n",
    "Organizations can use this obfuscation method to securely handle sensitive data, such as customer information, while still being able to train and use predictive models.\n",
    "Regulatory Compliance:\n",
    "This method can help in complying with data protection regulations that require data to be anonymized or obfuscated, without losing the ability to perform meaningful analysis.\n",
    "Summary\n",
    "The computational proof, supported by the identical RMSE and \n",
    "𝑅\n",
    "2\n",
    "R \n",
    "2\n",
    "  values, confirms that the obfuscation transformation using an invertible matrix \n",
    "𝑃\n",
    "P does not impact the performance of the Linear Regression model. This validation assures that the method is both effective for data privacy and practical for maintaining model accuracy."
   ]
  },
  {
   "cell_type": "markdown",
   "metadata": {},
   "source": [
    "You can write formulas in your Jupyter Notebook in a markup language provided by a high-quality publishing system called $\\LaTeX$ (pronounced \"Lah-tech\"), and they will look like formulas in textbooks.\n",
    "\n",
    "To put a formula in a text, put the dollar sign (\\\\$) before and after the formula's text e.g. $\\frac{1}{2} \\times \\frac{3}{2} = \\frac{3}{4}$ or $y = x^2, x \\ge 1$.\n",
    "\n",
    "If a formula should be in its own paragraph, put the double dollar sign (\\\\$\\\\$) before and after the formula text e.g.\n",
    "\n",
    "$$\n",
    "\\bar{x} = \\frac{1}{n}\\sum_{i=1}^{n} x_i.\n",
    "$$\n",
    "\n",
    "The markup language of [LaTeX](https://en.wikipedia.org/wiki/LaTeX) is very popular among people who use formulas in their articles, books and texts. It can be complex but its basics are easy. Check this two page [cheatsheet](http://tug.ctan.org/info/undergradmath/undergradmath.pdf) for learning how to compose the most common formulas."
   ]
  },
  {
   "cell_type": "markdown",
   "metadata": {},
   "source": [
    "## Appendix B: Properties of Matrices"
   ]
  },
  {
   "cell_type": "markdown",
   "metadata": {},
   "source": [
    "Matrices have many properties in Linear Algebra. A few of them are listed here which can help with the analytical proof in this project."
   ]
  },
  {
   "cell_type": "markdown",
   "metadata": {},
   "source": [
    "<table>\n",
    "<tr>\n",
    "<td>Distributivity</td><td>$A(B+C)=AB+AC$</td>\n",
    "</tr>\n",
    "<tr>\n",
    "<td>Non-commutativity</td><td>$AB \\neq BA$</td>\n",
    "</tr>\n",
    "<tr>\n",
    "<td>Associative property of multiplication</td><td>$(AB)C = A(BC)$</td>\n",
    "</tr>\n",
    "<tr>\n",
    "<td>Multiplicative identity property</td><td>$IA = AI = A$</td>\n",
    "</tr>\n",
    "<tr>\n",
    "<td></td><td>$A^{-1}A = AA^{-1} = I$\n",
    "</td>\n",
    "</tr>    \n",
    "<tr>\n",
    "<td></td><td>$(AB)^{-1} = B^{-1}A^{-1}$</td>\n",
    "</tr>    \n",
    "<tr>\n",
    "<td>Reversivity of the transpose of a product of matrices,</td><td>$(AB)^T = B^TA^T$</td>\n",
    "</tr>    \n",
    "</table>"
   ]
  },
  {
   "cell_type": "code",
   "execution_count": null,
   "metadata": {},
   "outputs": [],
   "source": []
  }
 ],
 "metadata": {
  "ExecuteTimeLog": [
   {
    "duration": 5225,
    "start_time": "2024-05-28T18:25:03.108Z"
   },
   {
    "duration": 1165,
    "start_time": "2024-05-28T18:25:08.337Z"
   },
   {
    "duration": 0,
    "start_time": "2024-05-28T18:25:09.510Z"
   },
   {
    "duration": 0,
    "start_time": "2024-05-28T18:25:09.513Z"
   },
   {
    "duration": 0,
    "start_time": "2024-05-28T18:25:09.516Z"
   },
   {
    "duration": 0,
    "start_time": "2024-05-28T18:25:09.519Z"
   },
   {
    "duration": 0,
    "start_time": "2024-05-28T18:25:09.522Z"
   },
   {
    "duration": 0,
    "start_time": "2024-05-28T18:25:09.524Z"
   },
   {
    "duration": 0,
    "start_time": "2024-05-28T18:25:09.526Z"
   },
   {
    "duration": 0,
    "start_time": "2024-05-28T18:25:09.528Z"
   },
   {
    "duration": 0,
    "start_time": "2024-05-28T18:25:09.531Z"
   },
   {
    "duration": 0,
    "start_time": "2024-05-28T18:25:09.533Z"
   },
   {
    "duration": 0,
    "start_time": "2024-05-28T18:25:09.535Z"
   },
   {
    "duration": 0,
    "start_time": "2024-05-28T18:25:09.537Z"
   },
   {
    "duration": 0,
    "start_time": "2024-05-28T18:25:09.539Z"
   },
   {
    "duration": 0,
    "start_time": "2024-05-28T18:25:09.541Z"
   },
   {
    "duration": 24,
    "start_time": "2024-05-28T18:25:11.723Z"
   },
   {
    "duration": 135,
    "start_time": "2024-05-28T18:25:29.161Z"
   },
   {
    "duration": 4,
    "start_time": "2024-05-28T18:27:22.842Z"
   },
   {
    "duration": 16,
    "start_time": "2024-05-28T18:27:23.505Z"
   },
   {
    "duration": 4,
    "start_time": "2024-05-28T18:27:24.421Z"
   },
   {
    "duration": 20,
    "start_time": "2024-05-28T18:27:24.622Z"
   },
   {
    "duration": 23,
    "start_time": "2024-05-28T18:27:24.801Z"
   },
   {
    "duration": 5,
    "start_time": "2024-05-28T18:27:24.991Z"
   },
   {
    "duration": 15,
    "start_time": "2024-05-28T18:27:25.197Z"
   },
   {
    "duration": 31,
    "start_time": "2024-05-28T18:27:25.637Z"
   },
   {
    "duration": 14,
    "start_time": "2024-05-28T18:28:09.623Z"
   },
   {
    "duration": 29,
    "start_time": "2024-05-28T18:28:09.867Z"
   },
   {
    "duration": 307,
    "start_time": "2024-05-28T18:28:10.471Z"
   },
   {
    "duration": 12,
    "start_time": "2024-05-28T18:28:10.846Z"
   },
   {
    "duration": 354,
    "start_time": "2024-05-28T18:28:11.266Z"
   },
   {
    "duration": 12,
    "start_time": "2024-05-28T18:28:11.624Z"
   },
   {
    "duration": 296,
    "start_time": "2024-05-28T18:28:12.231Z"
   },
   {
    "duration": 5,
    "start_time": "2024-05-28T18:28:12.814Z"
   },
   {
    "duration": 30,
    "start_time": "2024-05-28T18:28:13.089Z"
   },
   {
    "duration": 22,
    "start_time": "2024-05-28T18:28:13.376Z"
   },
   {
    "duration": 4902,
    "start_time": "2024-05-28T18:28:16.975Z"
   },
   {
    "duration": 4,
    "start_time": "2024-05-28T18:29:35.411Z"
   },
   {
    "duration": 8,
    "start_time": "2024-05-28T18:29:35.764Z"
   },
   {
    "duration": 8,
    "start_time": "2024-05-28T18:33:14.405Z"
   },
   {
    "duration": 28,
    "start_time": "2024-05-28T18:33:32.752Z"
   },
   {
    "duration": 27,
    "start_time": "2024-05-28T18:35:34.511Z"
   },
   {
    "duration": 27,
    "start_time": "2024-05-28T18:37:05.067Z"
   },
   {
    "duration": 7,
    "start_time": "2024-05-28T18:37:57.069Z"
   },
   {
    "duration": 34,
    "start_time": "2024-05-28T18:38:13.310Z"
   },
   {
    "duration": 30,
    "start_time": "2024-05-28T18:38:21.487Z"
   },
   {
    "duration": 6,
    "start_time": "2024-05-28T18:38:29.919Z"
   },
   {
    "duration": 33,
    "start_time": "2024-05-28T18:39:05.429Z"
   },
   {
    "duration": 18,
    "start_time": "2024-05-28T18:39:14.467Z"
   },
   {
    "duration": 14,
    "start_time": "2024-05-28T18:39:15.225Z"
   },
   {
    "duration": 64,
    "start_time": "2024-05-28T18:39:21.183Z"
   },
   {
    "duration": 2152,
    "start_time": "2024-05-28T18:53:02.935Z"
   },
   {
    "duration": 1868,
    "start_time": "2024-05-28T18:55:09.328Z"
   },
   {
    "duration": 6,
    "start_time": "2024-05-28T18:58:33.367Z"
   },
   {
    "duration": 4,
    "start_time": "2024-05-28T18:58:48.084Z"
   },
   {
    "duration": 6,
    "start_time": "2024-05-28T18:59:43.501Z"
   },
   {
    "duration": 6,
    "start_time": "2024-05-28T18:59:47.137Z"
   },
   {
    "duration": 7,
    "start_time": "2024-05-28T18:59:48.527Z"
   },
   {
    "duration": 4,
    "start_time": "2024-05-28T18:59:49.034Z"
   },
   {
    "duration": 4,
    "start_time": "2024-05-28T18:59:50.539Z"
   },
   {
    "duration": 1858,
    "start_time": "2024-05-28T18:59:51.348Z"
   },
   {
    "duration": 6,
    "start_time": "2024-05-28T19:00:38.043Z"
   },
   {
    "duration": 6,
    "start_time": "2024-05-28T19:00:38.553Z"
   },
   {
    "duration": 5,
    "start_time": "2024-05-28T19:00:39.119Z"
   },
   {
    "duration": 4,
    "start_time": "2024-05-28T19:00:39.769Z"
   },
   {
    "duration": 38,
    "start_time": "2024-05-28T19:00:40.366Z"
   },
   {
    "duration": 2093,
    "start_time": "2024-05-28T19:00:43.003Z"
   },
   {
    "duration": 7,
    "start_time": "2024-05-28T19:08:46.144Z"
   },
   {
    "duration": 5,
    "start_time": "2024-05-28T19:08:46.948Z"
   },
   {
    "duration": 6,
    "start_time": "2024-05-28T19:08:47.389Z"
   },
   {
    "duration": 6,
    "start_time": "2024-05-28T19:08:48.167Z"
   },
   {
    "duration": 15,
    "start_time": "2024-05-28T19:09:02.955Z"
   },
   {
    "duration": 10,
    "start_time": "2024-05-28T19:09:14.744Z"
   },
   {
    "duration": 7,
    "start_time": "2024-05-28T19:10:28.609Z"
   },
   {
    "duration": 9,
    "start_time": "2024-05-28T19:10:28.962Z"
   },
   {
    "duration": 5,
    "start_time": "2024-05-28T19:11:11.307Z"
   },
   {
    "duration": 4,
    "start_time": "2024-05-28T19:11:11.795Z"
   },
   {
    "duration": 5,
    "start_time": "2024-05-28T19:11:12.477Z"
   },
   {
    "duration": 6,
    "start_time": "2024-05-28T19:11:13.277Z"
   },
   {
    "duration": 11,
    "start_time": "2024-05-28T19:11:13.723Z"
   },
   {
    "duration": 19,
    "start_time": "2024-05-28T19:11:16.030Z"
   },
   {
    "duration": 5,
    "start_time": "2024-05-28T19:11:16.790Z"
   },
   {
    "duration": 7,
    "start_time": "2024-05-28T19:13:00.651Z"
   },
   {
    "duration": 5,
    "start_time": "2024-05-28T19:13:01.823Z"
   },
   {
    "duration": 7,
    "start_time": "2024-05-28T19:13:02.482Z"
   },
   {
    "duration": 6,
    "start_time": "2024-05-28T19:13:02.855Z"
   },
   {
    "duration": 9,
    "start_time": "2024-05-28T19:13:03.183Z"
   },
   {
    "duration": 10,
    "start_time": "2024-05-28T19:13:03.574Z"
   },
   {
    "duration": 4,
    "start_time": "2024-05-28T19:49:23.665Z"
   },
   {
    "duration": 4,
    "start_time": "2024-05-28T19:49:24.025Z"
   },
   {
    "duration": 5,
    "start_time": "2024-05-28T19:49:24.323Z"
   },
   {
    "duration": 19,
    "start_time": "2024-05-28T19:49:24.671Z"
   },
   {
    "duration": 5559,
    "start_time": "2024-05-29T20:29:58.257Z"
   },
   {
    "duration": 30,
    "start_time": "2024-05-29T20:30:03.819Z"
   },
   {
    "duration": 6,
    "start_time": "2024-05-29T20:30:03.852Z"
   },
   {
    "duration": 21,
    "start_time": "2024-05-29T20:30:03.863Z"
   },
   {
    "duration": 15,
    "start_time": "2024-05-29T20:30:03.887Z"
   },
   {
    "duration": 5,
    "start_time": "2024-05-29T20:30:03.932Z"
   },
   {
    "duration": 15,
    "start_time": "2024-05-29T20:30:03.940Z"
   },
   {
    "duration": 72,
    "start_time": "2024-05-29T20:30:03.958Z"
   },
   {
    "duration": 411,
    "start_time": "2024-05-29T20:30:04.033Z"
   },
   {
    "duration": 12,
    "start_time": "2024-05-29T20:30:04.450Z"
   },
   {
    "duration": 368,
    "start_time": "2024-05-29T20:30:04.465Z"
   },
   {
    "duration": 11,
    "start_time": "2024-05-29T20:30:04.836Z"
   },
   {
    "duration": 323,
    "start_time": "2024-05-29T20:30:04.850Z"
   },
   {
    "duration": 6,
    "start_time": "2024-05-29T20:30:05.177Z"
   },
   {
    "duration": 65,
    "start_time": "2024-05-29T20:30:05.186Z"
   },
   {
    "duration": 31,
    "start_time": "2024-05-29T20:30:05.254Z"
   },
   {
    "duration": 5066,
    "start_time": "2024-05-29T20:30:05.289Z"
   },
   {
    "duration": 3,
    "start_time": "2024-05-29T20:30:10.361Z"
   },
   {
    "duration": 7,
    "start_time": "2024-05-29T20:30:10.368Z"
   },
   {
    "duration": 35,
    "start_time": "2024-05-29T20:30:10.378Z"
   },
   {
    "duration": 412,
    "start_time": "2024-05-29T20:30:23.746Z"
   },
   {
    "duration": 28,
    "start_time": "2024-05-29T20:30:31.223Z"
   },
   {
    "duration": 6,
    "start_time": "2024-05-29T20:52:28.919Z"
   },
   {
    "duration": 8,
    "start_time": "2024-05-29T20:52:29.574Z"
   },
   {
    "duration": 4,
    "start_time": "2024-05-29T20:52:30.359Z"
   },
   {
    "duration": 4,
    "start_time": "2024-05-29T20:52:32.203Z"
   },
   {
    "duration": 40,
    "start_time": "2024-05-29T20:52:33.389Z"
   },
   {
    "duration": 1691,
    "start_time": "2024-05-29T20:52:34.940Z"
   },
   {
    "duration": 1606,
    "start_time": "2024-05-29T22:33:19.053Z"
   },
   {
    "duration": 24,
    "start_time": "2024-05-29T22:33:20.895Z"
   },
   {
    "duration": 5046,
    "start_time": "2024-05-29T22:33:43.688Z"
   },
   {
    "duration": 22,
    "start_time": "2024-05-29T22:33:48.738Z"
   },
   {
    "duration": 5,
    "start_time": "2024-05-29T22:33:48.763Z"
   },
   {
    "duration": 18,
    "start_time": "2024-05-29T22:33:48.772Z"
   },
   {
    "duration": 44,
    "start_time": "2024-05-29T22:33:48.793Z"
   },
   {
    "duration": 6,
    "start_time": "2024-05-29T22:33:48.840Z"
   },
   {
    "duration": 16,
    "start_time": "2024-05-29T22:33:48.849Z"
   },
   {
    "duration": 72,
    "start_time": "2024-05-29T22:33:48.869Z"
   },
   {
    "duration": 305,
    "start_time": "2024-05-29T22:33:48.944Z"
   },
   {
    "duration": 9,
    "start_time": "2024-05-29T22:33:49.255Z"
   },
   {
    "duration": 279,
    "start_time": "2024-05-29T22:33:49.267Z"
   },
   {
    "duration": 11,
    "start_time": "2024-05-29T22:33:49.549Z"
   },
   {
    "duration": 369,
    "start_time": "2024-05-29T22:33:49.563Z"
   },
   {
    "duration": 6,
    "start_time": "2024-05-29T22:33:49.935Z"
   },
   {
    "duration": 32,
    "start_time": "2024-05-29T22:33:49.944Z"
   },
   {
    "duration": 54,
    "start_time": "2024-05-29T22:33:49.980Z"
   },
   {
    "duration": 4900,
    "start_time": "2024-05-29T22:33:50.038Z"
   },
   {
    "duration": 5,
    "start_time": "2024-05-29T22:33:54.941Z"
   },
   {
    "duration": 8,
    "start_time": "2024-05-29T22:33:54.948Z"
   },
   {
    "duration": 32,
    "start_time": "2024-05-29T22:33:54.959Z"
   },
   {
    "duration": 46,
    "start_time": "2024-05-29T22:33:54.994Z"
   },
   {
    "duration": 15,
    "start_time": "2024-05-29T22:33:55.042Z"
   },
   {
    "duration": 84,
    "start_time": "2024-05-29T22:33:55.060Z"
   },
   {
    "duration": 6,
    "start_time": "2024-05-29T22:33:55.147Z"
   },
   {
    "duration": 6,
    "start_time": "2024-05-29T22:33:55.156Z"
   },
   {
    "duration": 5,
    "start_time": "2024-05-29T22:33:55.165Z"
   },
   {
    "duration": 4,
    "start_time": "2024-05-29T22:33:55.173Z"
   },
   {
    "duration": 79,
    "start_time": "2024-05-29T22:33:55.185Z"
   },
   {
    "duration": 1958,
    "start_time": "2024-05-29T22:33:55.269Z"
   },
   {
    "duration": 7,
    "start_time": "2024-05-29T22:33:57.233Z"
   },
   {
    "duration": 5,
    "start_time": "2024-05-29T22:33:57.244Z"
   },
   {
    "duration": 5,
    "start_time": "2024-05-29T22:33:57.252Z"
   },
   {
    "duration": 8,
    "start_time": "2024-05-29T22:33:57.260Z"
   },
   {
    "duration": 64,
    "start_time": "2024-05-29T22:33:57.270Z"
   },
   {
    "duration": 10,
    "start_time": "2024-05-29T22:33:57.336Z"
   },
   {
    "duration": 7,
    "start_time": "2024-05-29T22:33:57.348Z"
   },
   {
    "duration": 4,
    "start_time": "2024-05-29T22:33:57.434Z"
   },
   {
    "duration": 4,
    "start_time": "2024-05-29T22:33:57.442Z"
   },
   {
    "duration": 5,
    "start_time": "2024-05-29T22:33:57.449Z"
   },
   {
    "duration": 85,
    "start_time": "2024-05-29T22:33:57.457Z"
   },
   {
    "duration": 89,
    "start_time": "2024-05-29T22:33:57.544Z"
   },
   {
    "duration": 6,
    "start_time": "2024-05-29T22:33:57.636Z"
   },
   {
    "duration": 10,
    "start_time": "2024-05-29T22:33:57.647Z"
   },
   {
    "duration": 5,
    "start_time": "2024-05-29T22:33:57.734Z"
   },
   {
    "duration": 5,
    "start_time": "2024-05-29T22:33:57.741Z"
   },
   {
    "duration": 19,
    "start_time": "2024-05-29T22:33:57.749Z"
   },
   {
    "duration": 5,
    "start_time": "2024-05-29T22:34:03.151Z"
   },
   {
    "duration": 5,
    "start_time": "2024-05-29T22:37:47.568Z"
   },
   {
    "duration": 35,
    "start_time": "2024-05-29T22:50:58.385Z"
   },
   {
    "duration": 1753,
    "start_time": "2024-05-29T22:59:23.525Z"
   },
   {
    "duration": 6,
    "start_time": "2024-05-29T23:45:42.432Z"
   },
   {
    "duration": 5,
    "start_time": "2024-05-29T23:45:42.988Z"
   },
   {
    "duration": 6,
    "start_time": "2024-05-29T23:45:51.001Z"
   },
   {
    "duration": 6,
    "start_time": "2024-05-29T23:45:51.330Z"
   },
   {
    "duration": 5,
    "start_time": "2024-05-29T23:45:51.698Z"
   },
   {
    "duration": 10,
    "start_time": "2024-05-29T23:45:52.245Z"
   },
   {
    "duration": 10,
    "start_time": "2024-05-29T23:45:53.142Z"
   },
   {
    "duration": 15,
    "start_time": "2024-05-29T23:48:29.968Z"
   }
  ],
  "kernelspec": {
   "display_name": "Python 3 (ipykernel)",
   "language": "python",
   "name": "python3"
  },
  "language_info": {
   "codemirror_mode": {
    "name": "ipython",
    "version": 3
   },
   "file_extension": ".py",
   "mimetype": "text/x-python",
   "name": "python",
   "nbconvert_exporter": "python",
   "pygments_lexer": "ipython3",
   "version": "3.9.19"
  },
  "toc": {
   "base_numbering": 1,
   "nav_menu": {},
   "number_sections": true,
   "sideBar": true,
   "skip_h1_title": true,
   "title_cell": "Table of Contents",
   "title_sidebar": "Contents",
   "toc_cell": false,
   "toc_position": {},
   "toc_section_display": true,
   "toc_window_display": false
  }
 },
 "nbformat": 4,
 "nbformat_minor": 4
}
